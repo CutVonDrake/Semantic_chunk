{
 "cells": [
  {
   "cell_type": "code",
   "execution_count": 5,
   "id": "b0732935",
   "metadata": {},
   "outputs": [
    {
     "name": "stdout",
     "output_type": "stream",
     "text": [
      "Convertito /storage/data_4T_b/andreacutuli/PROVA/Documents/doc-fac-simile/1 - Copia (5).txt -> /storage/data_4T_b/andreacutuli/PROVA/Documents/pdf_doc-fac-simile/1 - Copia (5).pdf\n",
      "Convertito /storage/data_4T_b/andreacutuli/PROVA/Documents/doc-fac-simile/1 - Copia (4).txt -> /storage/data_4T_b/andreacutuli/PROVA/Documents/pdf_doc-fac-simile/1 - Copia (4).pdf\n",
      "Convertito /storage/data_4T_b/andreacutuli/PROVA/Documents/doc-fac-simile/1 - Copia (3).txt -> /storage/data_4T_b/andreacutuli/PROVA/Documents/pdf_doc-fac-simile/1 - Copia (3).pdf\n",
      "Convertito /storage/data_4T_b/andreacutuli/PROVA/Documents/doc-fac-simile/1 - Copia (7).txt -> /storage/data_4T_b/andreacutuli/PROVA/Documents/pdf_doc-fac-simile/1 - Copia (7).pdf\n",
      "Convertito /storage/data_4T_b/andreacutuli/PROVA/Documents/doc-fac-simile/1.txt -> /storage/data_4T_b/andreacutuli/PROVA/Documents/pdf_doc-fac-simile/1.pdf\n",
      "Convertito /storage/data_4T_b/andreacutuli/PROVA/Documents/doc-fac-simile/1 - Copia (6).txt -> /storage/data_4T_b/andreacutuli/PROVA/Documents/pdf_doc-fac-simile/1 - Copia (6).pdf\n",
      "Convertito /storage/data_4T_b/andreacutuli/PROVA/Documents/doc-fac-simile/1 - Copia (8).txt -> /storage/data_4T_b/andreacutuli/PROVA/Documents/pdf_doc-fac-simile/1 - Copia (8).pdf\n",
      "Convertito /storage/data_4T_b/andreacutuli/PROVA/Documents/doc-fac-simile/1 - Copia (2).txt -> /storage/data_4T_b/andreacutuli/PROVA/Documents/pdf_doc-fac-simile/1 - Copia (2).pdf\n",
      "Convertito /storage/data_4T_b/andreacutuli/PROVA/Documents/doc-fac-simile/1 - Copia.txt -> /storage/data_4T_b/andreacutuli/PROVA/Documents/pdf_doc-fac-simile/1 - Copia.pdf\n",
      "Convertito /storage/data_4T_b/andreacutuli/PROVA/Documents/doc-fac-simile/1 - Copia (9).txt -> /storage/data_4T_b/andreacutuli/PROVA/Documents/pdf_doc-fac-simile/1 - Copia (9).pdf\n"
     ]
    }
   ],
   "source": [
    "from fpdf import FPDF\n",
    "import os\n",
    "\n",
    "input_dir = \"/storage/data_4T_b/andreacutuli/PROVA/Documents/doc-fac-simile\"\n",
    "output_dir = \"/storage/data_4T_b/andreacutuli/PROVA/Documents/pdf_doc-fac-simile\"\n",
    "os.makedirs(output_dir, exist_ok=True)\n",
    "\n",
    "pdf_font_path = \"/usr/share/fonts/truetype/dejavu/DejaVuSans.ttf\"  # cambia in base al tuo sistema\n",
    "\n",
    "for fname in os.listdir(input_dir):\n",
    "    if fname.endswith(\".txt\"):\n",
    "        txt_path = os.path.join(input_dir, fname)\n",
    "        pdf_path = os.path.join(output_dir, fname.replace(\".txt\", \".pdf\"))\n",
    "        \n",
    "        pdf = FPDF()\n",
    "        pdf.add_page()\n",
    "        pdf.add_font(\"DejaVu\", \"\", pdf_font_path, uni=True)\n",
    "        pdf.set_font(\"DejaVu\", size=12)\n",
    "        \n",
    "        with open(txt_path, \"r\", encoding=\"utf-8\") as f:\n",
    "            for line in f:\n",
    "                pdf.multi_cell(0, 5, line)\n",
    "        \n",
    "        pdf.output(pdf_path)\n",
    "        print(f\"Convertito {txt_path} -> {pdf_path}\")\n"
   ]
  }
 ],
 "metadata": {
  "kernelspec": {
   "display_name": "pytorch",
   "language": "python",
   "name": "python3"
  },
  "language_info": {
   "codemirror_mode": {
    "name": "ipython",
    "version": 3
   },
   "file_extension": ".py",
   "mimetype": "text/x-python",
   "name": "python",
   "nbconvert_exporter": "python",
   "pygments_lexer": "ipython3",
   "version": "3.12.2"
  }
 },
 "nbformat": 4,
 "nbformat_minor": 5
}
