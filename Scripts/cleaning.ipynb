{
 "cells": [
  {
   "cell_type": "code",
   "execution_count": null,
   "id": "55bb70aa",
   "metadata": {},
   "outputs": [
    {
     "name": "stdout",
     "output_type": "stream",
     "text": [
      "Token rimosso con successo dal notebook.\n"
     ]
    }
   ],
   "source": [
    "import json\n",
    "from pathlib import Path\n",
    "\n",
    "# Percorso del notebook\n",
    "notebook_path = Path(\"/storage/data_4T_b/andreacutuli/PROVA/Scripts/retrievers.ipynb\")\n",
    "\n",
    "# Carica il notebook\n",
    "with notebook_path.open(\"r\", encoding=\"utf-8\") as f:\n",
    "    nb_data = json.load(f)\n",
    "\n",
    "# Token da rimuovere\n",
    "token_to_remove = \"<HF_TOKEN>\"\n",
    "# Funzione ricorsiva per rimuovere il token da stringhe o liste\n",
    "def remove_token(obj):\n",
    "    if isinstance(obj, str):\n",
    "        return obj.replace(token_to_remove, \"[REMOVED]\")\n",
    "    elif isinstance(obj, list):\n",
    "        return [remove_token(x) for x in obj]\n",
    "    elif isinstance(obj, dict):\n",
    "        return {k: remove_token(v) for k, v in obj.items()}\n",
    "    else:\n",
    "        return obj\n",
    "\n",
    "# Pulisce tutto il notebook\n",
    "nb_data = remove_token(nb_data)\n",
    "\n",
    "# Salva il notebook pulito\n",
    "with notebook_path.open(\"w\", encoding=\"utf-8\") as f:\n",
    "    json.dump(nb_data, f, ensure_ascii=False, indent=1)\n",
    "\n",
    "print(\"Token rimosso con successo dal notebook.\")\n"
   ]
  }
 ],
 "metadata": {
  "kernelspec": {
   "display_name": "docling_env",
   "language": "python",
   "name": "python3"
  },
  "language_info": {
   "codemirror_mode": {
    "name": "ipython",
    "version": 3
   },
   "file_extension": ".py",
   "mimetype": "text/x-python",
   "name": "python",
   "nbconvert_exporter": "python",
   "pygments_lexer": "ipython3",
   "version": "3.12.11"
  }
 },
 "nbformat": 4,
 "nbformat_minor": 5
}
