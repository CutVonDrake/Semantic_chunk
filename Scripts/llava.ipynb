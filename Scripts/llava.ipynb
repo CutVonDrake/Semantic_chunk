{
 "cells": [
  {
   "cell_type": "code",
   "execution_count": 13,
   "id": "098804cd",
   "metadata": {},
   "outputs": [
    {
     "name": "stdout",
     "output_type": "stream",
     "text": [
      " The image appears to be a screenshot of a computer interface displaying two plots side by side. On the left, there is a scatter plot with multiple axes and some data points marked with different symbols. There are annotations indicating various labels on the x-axis, such as \"CPU\", \"RAM\", \"DISK\", \"GPUs\", and others, suggesting that this is a performance benchmark for computer hardware.\n",
      "\n",
      "On the right, there is a horizontal bar chart that compares the performance of different configurations or software versions. Each bar represents a different configuration, with their labels such as \"1\", \"2\", \"3\", etc., and the bars are color-coded. The height of each bar indicates some form of measurement related to the performance benchmark.\n",
      "\n",
      "In the top right corner, there is a legend that explains what each colored bar represents in the right chart, with labels such as \"CPU\", \"RAM\", \"DISK\", and others.\n",
      "\n",
      "Below these two plots, there are two pie charts, likely representing the proportion of time spent on different tasks or applications during the performance benchmark. These charts seem to compare the time distribution across different processes or software versions.\n",
      "\n",
      "The image has a watermark or overlay at the bottom that says \"KDEnc,\" indicating the name of the tool or software being used for data visualization and analysis. \n"
     ]
    }
   ],
   "source": [
    "import requests\n",
    "import base64\n",
    "\n",
    "# 📍 Percorso dell'immagine locale\n",
    "image_path = \"/storage/data_4T_b/andreacutuli/PROVA/Documents/graph.png\"\n",
    "\n",
    "# 🧠 Prompt da inviare al modello\n",
    "prompt = \"Describe what's in this image.\"\n",
    "\n",
    "# 🔧 Carica e codifica l'immagine in base64\n",
    "with open(image_path, \"rb\") as img_file:\n",
    "    image_data = base64.b64encode(img_file.read()).decode(\"utf-8\")\n",
    "\n",
    "# 📡 Chiamata all'API REST di Ollama\n",
    "response = requests.post(\n",
    "    \"http://localhost:11434/api/generate\",\n",
    "    json={\n",
    "        \"model\": \"llava\",\n",
    "        \"prompt\": prompt,\n",
    "        \"images\": [image_data],\n",
    "        \"stream\": False\n",
    "    }\n",
    ")\n",
    "\n",
    "# 📤 Stampa la risposta del modello\n",
    "print(response.json()[\"response\"])\n"
   ]
  },
  {
   "cell_type": "code",
   "execution_count": 15,
   "id": "70661b99",
   "metadata": {},
   "outputs": [
    {
     "name": "stdout",
     "output_type": "stream",
     "text": [
      "\n",
      "The image is a box plot that compares three different metrics: x86 CPU, M3 Max, and L4 GPU performance across various tasks. The x-axis represents different tasks or categories, including \"Pdf Parse,\" \"OCR,\" \"Layout,\" \"Table Structure,\" and \"Page Total.\" The y-axis represents the performance metric in seconds per page (sec/page).\n",
      "\n",
      "### Description of Objects Present in the Image:\n",
      "\n",
      "1. **Title**:\n",
      "   - The top part of the image has a title that reads, \"Performance Metrics Comparison.\"\n",
      "\n",
      "2. **Axes**:\n",
      "   - The x-axis is labeled with different tasks or categories:\n",
      "     - Pdf Parse\n",
      "     - OCR\n",
      "     - Layout\n",
      "     - Table Structure\n",
      "     - Page Total\n",
      "   - The y-axis is labeled as \"sec/page,\" indicating the performance metric in seconds per page.\n",
      "\n",
      "3. **Legend**:\n",
      "   - There is a legend on the right side of the image, which indicates three different metrics:\n",
      "     - Orange bars represent x86 CPU performance.\n",
      "     - Green bars represent M3 Max performance.\n",
      "     - Blue bars represent L4 GPU performance.\n",
      "\n",
      "4. **Data Points**:\n",
      "   - For each task category (Pdf Parse, OCR, Layout, Table Structure, Page Total), there are three data points corresponding to the three metrics: x86 CPU, M3 Max, and L4 GPU.\n",
      "   - Each data point is represented by a box plot with whiskers extending from the box to the maximum and minimum values of the dataset. The median (the line within the box) is also indicated.\n",
      "\n",
      "### Analysis:\n",
      "\n",
      "1. **Performance Metrics**:\n",
      "   - For each task category, there are three metrics being compared: x86 CPU, M3 Max, and L4 GPU performance.\n",
      "   - The x86 CPU metric shows a relatively consistent performance across all tasks, with values ranging from approximately 0.5 to 2 seconds per page.\n",
      "   - The M3 Max metric also shows a consistent performance but slightly higher than the x86 CPU, with values ranging from about 1 second per page to around 2 seconds per page.\n",
      "   - The L4 GPU metric has the highest performance across all tasks, with values ranging from approximately 0.5 to 3 seconds per page.\n",
      "\n",
      "2. **Comparison**:\n",
      "   - The M3 Max metric generally outperforms both x86 CPU and L4 GPU in terms of performance.\n",
      "   - The L4 GPU metric consistently shows the highest performance across all tasks, indicating it might be the most efficient or powerful among the three metrics for these tasks.\n",
      "\n",
      "### Conclusion:\n",
      "\n",
      "The box plot effectively compares the performance of different computing resources (x86 CPU, M3 Max, and L4 GPU) in various tasks. The L4 GPU metric consistently outperforms both x86 CPU and M3 Max across all tasks, suggesting it is the most efficient or powerful among these metrics for these specific tasks. This comparison can be useful for selecting the best computing resource based on performance requirements.\n"
     ]
    }
   ],
   "source": [
    "import requests\n",
    "import base64\n",
    "\n",
    "# 📍 Percorso dell'immagine locale\n",
    "image_path = \"/storage/data_4T_b/andreacutuli/PROVA/Documents/graph.png\"\n",
    "\n",
    "# 🧠 Prompt da inviare al modello\n",
    "prompt = \"Describe what's in this image.\"\n",
    "\n",
    "# 🔧 Carica e codifica l'immagine in base64\n",
    "with open(image_path, \"rb\") as img_file:\n",
    "    image_data = base64.b64encode(img_file.read()).decode(\"utf-8\")\n",
    "\n",
    "# 📡 Chiamata all'API REST di Ollama\n",
    "response = requests.post(\n",
    "    \"http://localhost:11434/api/generate\",\n",
    "    json={\n",
    "        \"model\": \"granite3.2-vision\",\n",
    "        \"prompt\": prompt,\n",
    "        \"images\": [image_data],\n",
    "        \"stream\": False\n",
    "    }\n",
    ")\n",
    "\n",
    "# 📤 Stampa la risposta del modello\n",
    "print(response.json()[\"response\"])"
   ]
  },
  {
   "cell_type": "code",
   "execution_count": 21,
   "id": "be6718db",
   "metadata": {},
   "outputs": [
    {
     "name": "stdout",
     "output_type": "stream",
     "text": [
      "\n",
      "The image shows a close-up of a page from a book with text written in Italian. The text appears to be part of a narrative or descriptive passage, possibly discussing a character named Carlo and his experiences or thoughts. There is also an illustration of a silhouette of a person standing next to a cat on the right side of the page.\n"
     ]
    }
   ],
   "source": [
    "import ollama\n",
    "\n",
    "# 🔧 Specifica il modello che hai già scaricato\n",
    "model = \"granite3.2-vision\"\n",
    "\n",
    "# 🧠 Prompt testuale\n",
    "prompt = \"Describe what's in this image.\"\n",
    "\n",
    "# 📂 Percorso dell'immagine\n",
    "image_path = \"/storage/data_4T_b/andreacutuli/PROVA/Documents/images/book_page.jpeg\"\n",
    "\n",
    "# 📤 Esegui inferenza\n",
    "response = ollama.generate(\n",
    "    model=model,\n",
    "    prompt=prompt,\n",
    "    images=[image_path]\n",
    ")\n",
    "\n",
    "print(response['response'])\n"
   ]
  }
 ],
 "metadata": {
  "kernelspec": {
   "display_name": "docling_env",
   "language": "python",
   "name": "python3"
  },
  "language_info": {
   "codemirror_mode": {
    "name": "ipython",
    "version": 3
   },
   "file_extension": ".py",
   "mimetype": "text/x-python",
   "name": "python",
   "nbconvert_exporter": "python",
   "pygments_lexer": "ipython3",
   "version": "3.11.13"
  }
 },
 "nbformat": 4,
 "nbformat_minor": 5
}
