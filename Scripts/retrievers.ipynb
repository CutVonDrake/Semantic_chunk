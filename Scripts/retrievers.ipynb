{
 "cells": [
  {
   "cell_type": "code",
   "execution_count": 1,
   "id": "6ea2fae4",
   "metadata": {},
   "outputs": [
    {
     "name": "stdout",
     "output_type": "stream",
     "text": [
      "hello\n"
     ]
    }
   ],
   "source": [
    "print(\"hello\")"
   ]
  },
  {
   "cell_type": "code",
   "execution_count": null,
   "id": "0a36747b",
   "metadata": {},
   "outputs": [
    {
     "data": {
      "text/plain": [
       "'\\n!pip install docling\\n!pip install --quiet langchain_experimental langchain_openai\\n!pip install langchain sentence-transformers\\n!pip install -U langchain-huggingface\\n!pip install -qU langchain-core\\n'"
      ]
     },
     "execution_count": 2,
     "metadata": {},
     "output_type": "execute_result"
    }
   ],
   "source": [
    "'''\n",
    "!pip install docling\n",
    "!pip install --quiet langchain_experimental langchain_openai\n",
    "!pip install langchain sentence-transformers\n",
    "!pip install -U langchain-huggingface\n",
    "!pip install -qU langchain-core\n",
    "'''"
   ]
  },
  {
   "cell_type": "code",
   "execution_count": 2,
   "id": "0be0fa26",
   "metadata": {},
   "outputs": [
    {
     "name": "stderr",
     "output_type": "stream",
     "text": [
      "/storage/data_4T_b/andreacutuli/miniconda3/envs/docling_env/lib/python3.12/site-packages/tqdm/auto.py:21: TqdmWarning: IProgress not found. Please update jupyter and ipywidgets. See https://ipywidgets.readthedocs.io/en/stable/user_install.html\n",
      "  from .autonotebook import tqdm as notebook_tqdm\n",
      "2025-09-29 12:34:04,487 - INFO - detected formats: [<InputFormat.PDF: 'pdf'>]\n",
      "2025-09-29 12:34:04,889 - INFO - Going to convert document batch...\n",
      "2025-09-29 12:34:04,891 - INFO - Initializing pipeline for StandardPdfPipeline with options hash e647edf348883bed75367b22fbe60347\n",
      "2025-09-29 12:34:04,918 - INFO - Loading plugin 'docling_defaults'\n",
      "2025-09-29 12:34:04,921 - INFO - Registered picture descriptions: ['vlm', 'api']\n",
      "2025-09-29 12:34:04,941 - INFO - Loading plugin 'docling_defaults'\n",
      "2025-09-29 12:34:04,947 - INFO - Registered ocr engines: ['easyocr', 'ocrmac', 'rapidocr', 'tesserocr', 'tesseract']\n",
      "2025-09-29 12:34:06,437 - INFO - Accelerator device: 'cuda:0'\n",
      "/storage/data_4T_b/andreacutuli/miniconda3/envs/docling_env/lib/python3.12/site-packages/torch/cuda/__init__.py:283: UserWarning: \n",
      "    Found GPU0 Tesla P40 which is of cuda capability 6.1.\n",
      "    Minimum and Maximum cuda capability supported by this version of PyTorch is\n",
      "    (7.0) - (12.0)\n",
      "    \n",
      "  warnings.warn(\n",
      "/storage/data_4T_b/andreacutuli/miniconda3/envs/docling_env/lib/python3.12/site-packages/torch/cuda/__init__.py:304: UserWarning: \n",
      "    Please install PyTorch with a following CUDA\n",
      "    configurations:  12.6 following instructions at\n",
      "    https://pytorch.org/get-started/locally/\n",
      "    \n",
      "  warnings.warn(matched_cuda_warn.format(matched_arches))\n",
      "/storage/data_4T_b/andreacutuli/miniconda3/envs/docling_env/lib/python3.12/site-packages/torch/cuda/__init__.py:326: UserWarning: \n",
      "Tesla P40 with CUDA capability sm_61 is not compatible with the current PyTorch installation.\n",
      "The current PyTorch install supports CUDA capabilities sm_70 sm_75 sm_80 sm_86 sm_90 sm_100 sm_120.\n",
      "If you want to use the Tesla P40 GPU with PyTorch, please check the instructions at https://pytorch.org/get-started/locally/\n",
      "\n",
      "  warnings.warn(\n"
     ]
    },
    {
     "ename": "AcceleratorError",
     "evalue": "CUDA error: no kernel image is available for execution on the device\nCUDA kernel errors might be asynchronously reported at some other API call, so the stacktrace below might be incorrect.\nFor debugging consider passing CUDA_LAUNCH_BLOCKING=1\nCompile with `TORCH_USE_CUDA_DSA` to enable device-side assertions.\n",
     "output_type": "error",
     "traceback": [
      "\u001b[31m---------------------------------------------------------------------------\u001b[39m",
      "\u001b[31mAcceleratorError\u001b[39m                          Traceback (most recent call last)",
      "\u001b[36mCell\u001b[39m\u001b[36m \u001b[39m\u001b[32mIn[2]\u001b[39m\u001b[32m, line 5\u001b[39m\n\u001b[32m      3\u001b[39m source = \u001b[33m\"\u001b[39m\u001b[33m/storage/data_4T_b/andreacutuli/PROVA/Documents/FAC-SIMILE 1.1.pdf\u001b[39m\u001b[33m\"\u001b[39m  \u001b[38;5;66;03m# document per local path or URL\u001b[39;00m\n\u001b[32m      4\u001b[39m converter = DocumentConverter()\n\u001b[32m----> \u001b[39m\u001b[32m5\u001b[39m result = \u001b[43mconverter\u001b[49m\u001b[43m.\u001b[49m\u001b[43mconvert\u001b[49m\u001b[43m(\u001b[49m\u001b[43msource\u001b[49m\u001b[43m)\u001b[49m\n\u001b[32m      6\u001b[39m \u001b[38;5;28mprint\u001b[39m(result.document.export_to_markdown())  \u001b[38;5;66;03m# output: \"## Docling Technical Report[...]\"\u001b[39;00m\n",
      "\u001b[36mFile \u001b[39m\u001b[32m~/miniconda3/envs/docling_env/lib/python3.12/site-packages/pydantic/_internal/_validate_call.py:39\u001b[39m, in \u001b[36mupdate_wrapper_attributes.<locals>.wrapper_function\u001b[39m\u001b[34m(*args, **kwargs)\u001b[39m\n\u001b[32m     37\u001b[39m \u001b[38;5;129m@functools\u001b[39m.wraps(wrapped)\n\u001b[32m     38\u001b[39m \u001b[38;5;28;01mdef\u001b[39;00m\u001b[38;5;250m \u001b[39m\u001b[34mwrapper_function\u001b[39m(*args, **kwargs):\n\u001b[32m---> \u001b[39m\u001b[32m39\u001b[39m     \u001b[38;5;28;01mreturn\u001b[39;00m \u001b[43mwrapper\u001b[49m\u001b[43m(\u001b[49m\u001b[43m*\u001b[49m\u001b[43margs\u001b[49m\u001b[43m,\u001b[49m\u001b[43m \u001b[49m\u001b[43m*\u001b[49m\u001b[43m*\u001b[49m\u001b[43mkwargs\u001b[49m\u001b[43m)\u001b[49m\n",
      "\u001b[36mFile \u001b[39m\u001b[32m~/miniconda3/envs/docling_env/lib/python3.12/site-packages/pydantic/_internal/_validate_call.py:136\u001b[39m, in \u001b[36mValidateCallWrapper.__call__\u001b[39m\u001b[34m(self, *args, **kwargs)\u001b[39m\n\u001b[32m    133\u001b[39m \u001b[38;5;28;01mif\u001b[39;00m \u001b[38;5;129;01mnot\u001b[39;00m \u001b[38;5;28mself\u001b[39m.__pydantic_complete__:\n\u001b[32m    134\u001b[39m     \u001b[38;5;28mself\u001b[39m._create_validators()\n\u001b[32m--> \u001b[39m\u001b[32m136\u001b[39m res = \u001b[38;5;28;43mself\u001b[39;49m\u001b[43m.\u001b[49m\u001b[43m__pydantic_validator__\u001b[49m\u001b[43m.\u001b[49m\u001b[43mvalidate_python\u001b[49m\u001b[43m(\u001b[49m\u001b[43mpydantic_core\u001b[49m\u001b[43m.\u001b[49m\u001b[43mArgsKwargs\u001b[49m\u001b[43m(\u001b[49m\u001b[43margs\u001b[49m\u001b[43m,\u001b[49m\u001b[43m \u001b[49m\u001b[43mkwargs\u001b[49m\u001b[43m)\u001b[49m\u001b[43m)\u001b[49m\n\u001b[32m    137\u001b[39m \u001b[38;5;28;01mif\u001b[39;00m \u001b[38;5;28mself\u001b[39m.__return_pydantic_validator__:\n\u001b[32m    138\u001b[39m     \u001b[38;5;28;01mreturn\u001b[39;00m \u001b[38;5;28mself\u001b[39m.__return_pydantic_validator__(res)\n",
      "\u001b[36mFile \u001b[39m\u001b[32m~/miniconda3/envs/docling_env/lib/python3.12/site-packages/docling/document_converter.py:245\u001b[39m, in \u001b[36mDocumentConverter.convert\u001b[39m\u001b[34m(self, source, headers, raises_on_error, max_num_pages, max_file_size, page_range)\u001b[39m\n\u001b[32m    227\u001b[39m \u001b[38;5;129m@validate_call\u001b[39m(config=ConfigDict(strict=\u001b[38;5;28;01mTrue\u001b[39;00m))\n\u001b[32m    228\u001b[39m \u001b[38;5;28;01mdef\u001b[39;00m\u001b[38;5;250m \u001b[39m\u001b[34mconvert\u001b[39m(\n\u001b[32m    229\u001b[39m     \u001b[38;5;28mself\u001b[39m,\n\u001b[32m   (...)\u001b[39m\u001b[32m    235\u001b[39m     page_range: PageRange = DEFAULT_PAGE_RANGE,\n\u001b[32m    236\u001b[39m ) -> ConversionResult:\n\u001b[32m    237\u001b[39m     all_res = \u001b[38;5;28mself\u001b[39m.convert_all(\n\u001b[32m    238\u001b[39m         source=[source],\n\u001b[32m    239\u001b[39m         raises_on_error=raises_on_error,\n\u001b[32m   (...)\u001b[39m\u001b[32m    243\u001b[39m         page_range=page_range,\n\u001b[32m    244\u001b[39m     )\n\u001b[32m--> \u001b[39m\u001b[32m245\u001b[39m     \u001b[38;5;28;01mreturn\u001b[39;00m \u001b[38;5;28;43mnext\u001b[39;49m\u001b[43m(\u001b[49m\u001b[43mall_res\u001b[49m\u001b[43m)\u001b[49m\n",
      "\u001b[36mFile \u001b[39m\u001b[32m~/miniconda3/envs/docling_env/lib/python3.12/site-packages/docling/document_converter.py:268\u001b[39m, in \u001b[36mDocumentConverter.convert_all\u001b[39m\u001b[34m(self, source, headers, raises_on_error, max_num_pages, max_file_size, page_range)\u001b[39m\n\u001b[32m    265\u001b[39m conv_res_iter = \u001b[38;5;28mself\u001b[39m._convert(conv_input, raises_on_error=raises_on_error)\n\u001b[32m    267\u001b[39m had_result = \u001b[38;5;28;01mFalse\u001b[39;00m\n\u001b[32m--> \u001b[39m\u001b[32m268\u001b[39m \u001b[43m\u001b[49m\u001b[38;5;28;43;01mfor\u001b[39;49;00m\u001b[43m \u001b[49m\u001b[43mconv_res\u001b[49m\u001b[43m \u001b[49m\u001b[38;5;129;43;01min\u001b[39;49;00m\u001b[43m \u001b[49m\u001b[43mconv_res_iter\u001b[49m\u001b[43m:\u001b[49m\n\u001b[32m    269\u001b[39m \u001b[43m    \u001b[49m\u001b[43mhad_result\u001b[49m\u001b[43m \u001b[49m\u001b[43m=\u001b[49m\u001b[43m \u001b[49m\u001b[38;5;28;43;01mTrue\u001b[39;49;00m\n\u001b[32m    270\u001b[39m \u001b[43m    \u001b[49m\u001b[38;5;28;43;01mif\u001b[39;49;00m\u001b[43m \u001b[49m\u001b[43mraises_on_error\u001b[49m\u001b[43m \u001b[49m\u001b[38;5;129;43;01mand\u001b[39;49;00m\u001b[43m \u001b[49m\u001b[43mconv_res\u001b[49m\u001b[43m.\u001b[49m\u001b[43mstatus\u001b[49m\u001b[43m \u001b[49m\u001b[38;5;129;43;01mnot\u001b[39;49;00m\u001b[43m \u001b[49m\u001b[38;5;129;43;01min\u001b[39;49;00m\u001b[43m \u001b[49m\u001b[43m{\u001b[49m\n\u001b[32m    271\u001b[39m \u001b[43m        \u001b[49m\u001b[43mConversionStatus\u001b[49m\u001b[43m.\u001b[49m\u001b[43mSUCCESS\u001b[49m\u001b[43m,\u001b[49m\n\u001b[32m    272\u001b[39m \u001b[43m        \u001b[49m\u001b[43mConversionStatus\u001b[49m\u001b[43m.\u001b[49m\u001b[43mPARTIAL_SUCCESS\u001b[49m\u001b[43m,\u001b[49m\n\u001b[32m    273\u001b[39m \u001b[43m    \u001b[49m\u001b[43m}\u001b[49m\u001b[43m:\u001b[49m\n",
      "\u001b[36mFile \u001b[39m\u001b[32m~/miniconda3/envs/docling_env/lib/python3.12/site-packages/docling/document_converter.py:340\u001b[39m, in \u001b[36mDocumentConverter._convert\u001b[39m\u001b[34m(self, conv_input, raises_on_error)\u001b[39m\n\u001b[32m    338\u001b[39m             \u001b[38;5;28;01myield\u001b[39;00m item\n\u001b[32m    339\u001b[39m \u001b[38;5;28;01melse\u001b[39;00m:\n\u001b[32m--> \u001b[39m\u001b[32m340\u001b[39m \u001b[43m    \u001b[49m\u001b[38;5;28;43;01mfor\u001b[39;49;00m\u001b[43m \u001b[49m\u001b[43mitem\u001b[49m\u001b[43m \u001b[49m\u001b[38;5;129;43;01min\u001b[39;49;00m\u001b[43m \u001b[49m\u001b[38;5;28;43mmap\u001b[39;49m\u001b[43m(\u001b[49m\n\u001b[32m    341\u001b[39m \u001b[43m        \u001b[49m\u001b[43mprocess_func\u001b[49m\u001b[43m,\u001b[49m\n\u001b[32m    342\u001b[39m \u001b[43m        \u001b[49m\u001b[43minput_batch\u001b[49m\u001b[43m,\u001b[49m\n\u001b[32m    343\u001b[39m \u001b[43m    \u001b[49m\u001b[43m)\u001b[49m\u001b[43m:\u001b[49m\n\u001b[32m    344\u001b[39m \u001b[43m        \u001b[49m\u001b[43melapsed\u001b[49m\u001b[43m \u001b[49m\u001b[43m=\u001b[49m\u001b[43m \u001b[49m\u001b[43mtime\u001b[49m\u001b[43m.\u001b[49m\u001b[43mmonotonic\u001b[49m\u001b[43m(\u001b[49m\u001b[43m)\u001b[49m\u001b[43m \u001b[49m\u001b[43m-\u001b[49m\u001b[43m \u001b[49m\u001b[43mstart_time\u001b[49m\n\u001b[32m    345\u001b[39m \u001b[43m        \u001b[49m\u001b[43mstart_time\u001b[49m\u001b[43m \u001b[49m\u001b[43m=\u001b[49m\u001b[43m \u001b[49m\u001b[43mtime\u001b[49m\u001b[43m.\u001b[49m\u001b[43mmonotonic\u001b[49m\u001b[43m(\u001b[49m\u001b[43m)\u001b[49m\n",
      "\u001b[36mFile \u001b[39m\u001b[32m~/miniconda3/envs/docling_env/lib/python3.12/site-packages/docling/document_converter.py:387\u001b[39m, in \u001b[36mDocumentConverter._process_document\u001b[39m\u001b[34m(self, in_doc, raises_on_error)\u001b[39m\n\u001b[32m    383\u001b[39m valid = (\n\u001b[32m    384\u001b[39m     \u001b[38;5;28mself\u001b[39m.allowed_formats \u001b[38;5;129;01mis\u001b[39;00m \u001b[38;5;129;01mnot\u001b[39;00m \u001b[38;5;28;01mNone\u001b[39;00m \u001b[38;5;129;01mand\u001b[39;00m in_doc.format \u001b[38;5;129;01min\u001b[39;00m \u001b[38;5;28mself\u001b[39m.allowed_formats\n\u001b[32m    385\u001b[39m )\n\u001b[32m    386\u001b[39m \u001b[38;5;28;01mif\u001b[39;00m valid:\n\u001b[32m--> \u001b[39m\u001b[32m387\u001b[39m     conv_res = \u001b[38;5;28;43mself\u001b[39;49m\u001b[43m.\u001b[49m\u001b[43m_execute_pipeline\u001b[49m\u001b[43m(\u001b[49m\u001b[43min_doc\u001b[49m\u001b[43m,\u001b[49m\u001b[43m \u001b[49m\u001b[43mraises_on_error\u001b[49m\u001b[43m=\u001b[49m\u001b[43mraises_on_error\u001b[49m\u001b[43m)\u001b[49m\n\u001b[32m    388\u001b[39m \u001b[38;5;28;01melse\u001b[39;00m:\n\u001b[32m    389\u001b[39m     error_message = \u001b[33mf\u001b[39m\u001b[33m\"\u001b[39m\u001b[33mFile format not allowed: \u001b[39m\u001b[38;5;132;01m{\u001b[39;00min_doc.file\u001b[38;5;132;01m}\u001b[39;00m\u001b[33m\"\u001b[39m\n",
      "\u001b[36mFile \u001b[39m\u001b[32m~/miniconda3/envs/docling_env/lib/python3.12/site-packages/docling/document_converter.py:408\u001b[39m, in \u001b[36mDocumentConverter._execute_pipeline\u001b[39m\u001b[34m(self, in_doc, raises_on_error)\u001b[39m\n\u001b[32m    404\u001b[39m \u001b[38;5;28;01mdef\u001b[39;00m\u001b[38;5;250m \u001b[39m\u001b[34m_execute_pipeline\u001b[39m(\n\u001b[32m    405\u001b[39m     \u001b[38;5;28mself\u001b[39m, in_doc: InputDocument, raises_on_error: \u001b[38;5;28mbool\u001b[39m\n\u001b[32m    406\u001b[39m ) -> ConversionResult:\n\u001b[32m    407\u001b[39m     \u001b[38;5;28;01mif\u001b[39;00m in_doc.valid:\n\u001b[32m--> \u001b[39m\u001b[32m408\u001b[39m         pipeline = \u001b[38;5;28;43mself\u001b[39;49m\u001b[43m.\u001b[49m\u001b[43m_get_pipeline\u001b[49m\u001b[43m(\u001b[49m\u001b[43min_doc\u001b[49m\u001b[43m.\u001b[49m\u001b[43mformat\u001b[49m\u001b[43m)\u001b[49m\n\u001b[32m    409\u001b[39m         \u001b[38;5;28;01mif\u001b[39;00m pipeline \u001b[38;5;129;01mis\u001b[39;00m \u001b[38;5;129;01mnot\u001b[39;00m \u001b[38;5;28;01mNone\u001b[39;00m:\n\u001b[32m    410\u001b[39m             conv_res = pipeline.execute(in_doc, raises_on_error=raises_on_error)\n",
      "\u001b[36mFile \u001b[39m\u001b[32m~/miniconda3/envs/docling_env/lib/python3.12/site-packages/docling/document_converter.py:370\u001b[39m, in \u001b[36mDocumentConverter._get_pipeline\u001b[39m\u001b[34m(self, doc_format)\u001b[39m\n\u001b[32m    366\u001b[39m \u001b[38;5;28;01mif\u001b[39;00m cache_key \u001b[38;5;129;01mnot\u001b[39;00m \u001b[38;5;129;01min\u001b[39;00m \u001b[38;5;28mself\u001b[39m.initialized_pipelines:\n\u001b[32m    367\u001b[39m     _log.info(\n\u001b[32m    368\u001b[39m         \u001b[33mf\u001b[39m\u001b[33m\"\u001b[39m\u001b[33mInitializing pipeline for \u001b[39m\u001b[38;5;132;01m{\u001b[39;00mpipeline_class.\u001b[34m__name__\u001b[39m\u001b[38;5;132;01m}\u001b[39;00m\u001b[33m with options hash \u001b[39m\u001b[38;5;132;01m{\u001b[39;00moptions_hash\u001b[38;5;132;01m}\u001b[39;00m\u001b[33m\"\u001b[39m\n\u001b[32m    369\u001b[39m     )\n\u001b[32m--> \u001b[39m\u001b[32m370\u001b[39m     \u001b[38;5;28mself\u001b[39m.initialized_pipelines[cache_key] = \u001b[43mpipeline_class\u001b[49m\u001b[43m(\u001b[49m\n\u001b[32m    371\u001b[39m \u001b[43m        \u001b[49m\u001b[43mpipeline_options\u001b[49m\u001b[43m=\u001b[49m\u001b[43mpipeline_options\u001b[49m\n\u001b[32m    372\u001b[39m \u001b[43m    \u001b[49m\u001b[43m)\u001b[49m\n\u001b[32m    373\u001b[39m \u001b[38;5;28;01melse\u001b[39;00m:\n\u001b[32m    374\u001b[39m     _log.debug(\n\u001b[32m    375\u001b[39m         \u001b[33mf\u001b[39m\u001b[33m\"\u001b[39m\u001b[33mReusing cached pipeline for \u001b[39m\u001b[38;5;132;01m{\u001b[39;00mpipeline_class.\u001b[34m__name__\u001b[39m\u001b[38;5;132;01m}\u001b[39;00m\u001b[33m with options hash \u001b[39m\u001b[38;5;132;01m{\u001b[39;00moptions_hash\u001b[38;5;132;01m}\u001b[39;00m\u001b[33m\"\u001b[39m\n\u001b[32m    376\u001b[39m     )\n",
      "\u001b[36mFile \u001b[39m\u001b[32m~/miniconda3/envs/docling_env/lib/python3.12/site-packages/docling/pipeline/standard_pdf_pipeline.py:49\u001b[39m, in \u001b[36mStandardPdfPipeline.__init__\u001b[39m\u001b[34m(self, pipeline_options)\u001b[39m\n\u001b[32m     41\u001b[39m     \u001b[38;5;28mself\u001b[39m.keep_images = (\n\u001b[32m     42\u001b[39m         \u001b[38;5;28mself\u001b[39m.pipeline_options.generate_page_images\n\u001b[32m     43\u001b[39m         \u001b[38;5;129;01mor\u001b[39;00m \u001b[38;5;28mself\u001b[39m.pipeline_options.generate_picture_images\n\u001b[32m     44\u001b[39m         \u001b[38;5;129;01mor\u001b[39;00m \u001b[38;5;28mself\u001b[39m.pipeline_options.generate_table_images\n\u001b[32m     45\u001b[39m     )\n\u001b[32m     47\u001b[39m \u001b[38;5;28mself\u001b[39m.reading_order_model = ReadingOrderModel(options=ReadingOrderOptions())\n\u001b[32m---> \u001b[39m\u001b[32m49\u001b[39m ocr_model = \u001b[38;5;28;43mself\u001b[39;49m\u001b[43m.\u001b[49m\u001b[43mget_ocr_model\u001b[49m\u001b[43m(\u001b[49m\u001b[43martifacts_path\u001b[49m\u001b[43m=\u001b[49m\u001b[38;5;28;43mself\u001b[39;49m\u001b[43m.\u001b[49m\u001b[43martifacts_path\u001b[49m\u001b[43m)\u001b[49m\n\u001b[32m     51\u001b[39m \u001b[38;5;28mself\u001b[39m.build_pipe = [\n\u001b[32m     52\u001b[39m     \u001b[38;5;66;03m# Pre-processing\u001b[39;00m\n\u001b[32m     53\u001b[39m     PagePreprocessingModel(\n\u001b[32m   (...)\u001b[39m\u001b[32m     74\u001b[39m     PageAssembleModel(options=PageAssembleOptions()),\n\u001b[32m     75\u001b[39m ]\n\u001b[32m     77\u001b[39m \u001b[38;5;28mself\u001b[39m.enrichment_pipe = [\n\u001b[32m     78\u001b[39m     \u001b[38;5;66;03m# Code Formula Enrichment Model\u001b[39;00m\n\u001b[32m     79\u001b[39m     CodeFormulaModel(\n\u001b[32m   (...)\u001b[39m\u001b[32m     89\u001b[39m     *\u001b[38;5;28mself\u001b[39m.enrichment_pipe,\n\u001b[32m     90\u001b[39m ]\n",
      "\u001b[36mFile \u001b[39m\u001b[32m~/miniconda3/envs/docling_env/lib/python3.12/site-packages/docling/pipeline/standard_pdf_pipeline.py:119\u001b[39m, in \u001b[36mStandardPdfPipeline.get_ocr_model\u001b[39m\u001b[34m(self, artifacts_path)\u001b[39m\n\u001b[32m    115\u001b[39m \u001b[38;5;28;01mdef\u001b[39;00m\u001b[38;5;250m \u001b[39m\u001b[34mget_ocr_model\u001b[39m(\u001b[38;5;28mself\u001b[39m, artifacts_path: Optional[Path] = \u001b[38;5;28;01mNone\u001b[39;00m) -> BaseOcrModel:\n\u001b[32m    116\u001b[39m     factory = get_ocr_factory(\n\u001b[32m    117\u001b[39m         allow_external_plugins=\u001b[38;5;28mself\u001b[39m.pipeline_options.allow_external_plugins\n\u001b[32m    118\u001b[39m     )\n\u001b[32m--> \u001b[39m\u001b[32m119\u001b[39m     \u001b[38;5;28;01mreturn\u001b[39;00m \u001b[43mfactory\u001b[49m\u001b[43m.\u001b[49m\u001b[43mcreate_instance\u001b[49m\u001b[43m(\u001b[49m\n\u001b[32m    120\u001b[39m \u001b[43m        \u001b[49m\u001b[43moptions\u001b[49m\u001b[43m=\u001b[49m\u001b[38;5;28;43mself\u001b[39;49m\u001b[43m.\u001b[49m\u001b[43mpipeline_options\u001b[49m\u001b[43m.\u001b[49m\u001b[43mocr_options\u001b[49m\u001b[43m,\u001b[49m\n\u001b[32m    121\u001b[39m \u001b[43m        \u001b[49m\u001b[43menabled\u001b[49m\u001b[43m=\u001b[49m\u001b[38;5;28;43mself\u001b[39;49m\u001b[43m.\u001b[49m\u001b[43mpipeline_options\u001b[49m\u001b[43m.\u001b[49m\u001b[43mdo_ocr\u001b[49m\u001b[43m,\u001b[49m\n\u001b[32m    122\u001b[39m \u001b[43m        \u001b[49m\u001b[43martifacts_path\u001b[49m\u001b[43m=\u001b[49m\u001b[43martifacts_path\u001b[49m\u001b[43m,\u001b[49m\n\u001b[32m    123\u001b[39m \u001b[43m        \u001b[49m\u001b[43maccelerator_options\u001b[49m\u001b[43m=\u001b[49m\u001b[38;5;28;43mself\u001b[39;49m\u001b[43m.\u001b[49m\u001b[43mpipeline_options\u001b[49m\u001b[43m.\u001b[49m\u001b[43maccelerator_options\u001b[49m\u001b[43m,\u001b[49m\n\u001b[32m    124\u001b[39m \u001b[43m    \u001b[49m\u001b[43m)\u001b[49m\n",
      "\u001b[36mFile \u001b[39m\u001b[32m~/miniconda3/envs/docling_env/lib/python3.12/site-packages/docling/models/factories/base_factory.py:57\u001b[39m, in \u001b[36mBaseFactory.create_instance\u001b[39m\u001b[34m(self, options, **kwargs)\u001b[39m\n\u001b[32m     55\u001b[39m \u001b[38;5;28;01mtry\u001b[39;00m:\n\u001b[32m     56\u001b[39m     _cls = \u001b[38;5;28mself\u001b[39m._classes[\u001b[38;5;28mtype\u001b[39m(options)]\n\u001b[32m---> \u001b[39m\u001b[32m57\u001b[39m     \u001b[38;5;28;01mreturn\u001b[39;00m \u001b[43m_cls\u001b[49m\u001b[43m(\u001b[49m\u001b[43moptions\u001b[49m\u001b[43m=\u001b[49m\u001b[43moptions\u001b[49m\u001b[43m,\u001b[49m\u001b[43m \u001b[49m\u001b[43m*\u001b[49m\u001b[43m*\u001b[49m\u001b[43mkwargs\u001b[49m\u001b[43m)\u001b[49m\n\u001b[32m     58\u001b[39m \u001b[38;5;28;01mexcept\u001b[39;00m \u001b[38;5;167;01mKeyError\u001b[39;00m:\n\u001b[32m     59\u001b[39m     \u001b[38;5;28;01mraise\u001b[39;00m \u001b[38;5;167;01mRuntimeError\u001b[39;00m(\u001b[38;5;28mself\u001b[39m._err_msg_on_class_not_found(options.kind))\n",
      "\u001b[36mFile \u001b[39m\u001b[32m~/miniconda3/envs/docling_env/lib/python3.12/site-packages/docling/models/easyocr_model.py:84\u001b[39m, in \u001b[36mEasyOcrModel.__init__\u001b[39m\u001b[34m(self, enabled, artifacts_path, options, accelerator_options)\u001b[39m\n\u001b[32m     82\u001b[39m \u001b[38;5;28;01mif\u001b[39;00m \u001b[38;5;28mself\u001b[39m.options.suppress_mps_warnings:\n\u001b[32m     83\u001b[39m     warnings.filterwarnings(\u001b[33m\"\u001b[39m\u001b[33mignore\u001b[39m\u001b[33m\"\u001b[39m, message=\u001b[33m\"\u001b[39m\u001b[33m.*pin_memory.*MPS.*\u001b[39m\u001b[33m\"\u001b[39m)\n\u001b[32m---> \u001b[39m\u001b[32m84\u001b[39m \u001b[38;5;28mself\u001b[39m.reader = \u001b[43measyocr\u001b[49m\u001b[43m.\u001b[49m\u001b[43mReader\u001b[49m\u001b[43m(\u001b[49m\n\u001b[32m     85\u001b[39m \u001b[43m    \u001b[49m\u001b[43mlang_list\u001b[49m\u001b[43m=\u001b[49m\u001b[38;5;28;43mself\u001b[39;49m\u001b[43m.\u001b[49m\u001b[43moptions\u001b[49m\u001b[43m.\u001b[49m\u001b[43mlang\u001b[49m\u001b[43m,\u001b[49m\n\u001b[32m     86\u001b[39m \u001b[43m    \u001b[49m\u001b[43mgpu\u001b[49m\u001b[43m=\u001b[49m\u001b[43muse_gpu\u001b[49m\u001b[43m,\u001b[49m\n\u001b[32m     87\u001b[39m \u001b[43m    \u001b[49m\u001b[43mmodel_storage_directory\u001b[49m\u001b[43m=\u001b[49m\u001b[43mmodel_storage_directory\u001b[49m\u001b[43m,\u001b[49m\n\u001b[32m     88\u001b[39m \u001b[43m    \u001b[49m\u001b[43mrecog_network\u001b[49m\u001b[43m=\u001b[49m\u001b[38;5;28;43mself\u001b[39;49m\u001b[43m.\u001b[49m\u001b[43moptions\u001b[49m\u001b[43m.\u001b[49m\u001b[43mrecog_network\u001b[49m\u001b[43m,\u001b[49m\n\u001b[32m     89\u001b[39m \u001b[43m    \u001b[49m\u001b[43mdownload_enabled\u001b[49m\u001b[43m=\u001b[49m\u001b[43mdownload_enabled\u001b[49m\u001b[43m,\u001b[49m\n\u001b[32m     90\u001b[39m \u001b[43m    \u001b[49m\u001b[43mverbose\u001b[49m\u001b[43m=\u001b[49m\u001b[38;5;28;43;01mFalse\u001b[39;49;00m\u001b[43m,\u001b[49m\n\u001b[32m     91\u001b[39m \u001b[43m\u001b[49m\u001b[43m)\u001b[49m\n",
      "\u001b[36mFile \u001b[39m\u001b[32m~/miniconda3/envs/docling_env/lib/python3.12/site-packages/easyocr/easyocr.py:231\u001b[39m, in \u001b[36mReader.__init__\u001b[39m\u001b[34m(self, lang_list, gpu, model_storage_directory, user_network_directory, detect_network, recog_network, download_enabled, detector, recognizer, verbose, quantize, cudnn_benchmark)\u001b[39m\n\u001b[32m    229\u001b[39m \u001b[38;5;28;01melse\u001b[39;00m:\n\u001b[32m    230\u001b[39m     network_params = recog_config[\u001b[33m'\u001b[39m\u001b[33mnetwork_params\u001b[39m\u001b[33m'\u001b[39m]\n\u001b[32m--> \u001b[39m\u001b[32m231\u001b[39m \u001b[38;5;28mself\u001b[39m.recognizer, \u001b[38;5;28mself\u001b[39m.converter = \u001b[43mget_recognizer\u001b[49m\u001b[43m(\u001b[49m\u001b[43mrecog_network\u001b[49m\u001b[43m,\u001b[49m\u001b[43m \u001b[49m\u001b[43mnetwork_params\u001b[49m\u001b[43m,\u001b[49m\u001b[43m\\\u001b[49m\n\u001b[32m    232\u001b[39m \u001b[43m                                             \u001b[49m\u001b[38;5;28;43mself\u001b[39;49m\u001b[43m.\u001b[49m\u001b[43mcharacter\u001b[49m\u001b[43m,\u001b[49m\u001b[43m \u001b[49m\u001b[43mseparator_list\u001b[49m\u001b[43m,\u001b[49m\u001b[43m\\\u001b[49m\n\u001b[32m    233\u001b[39m \u001b[43m                                             \u001b[49m\u001b[43mdict_list\u001b[49m\u001b[43m,\u001b[49m\u001b[43m \u001b[49m\u001b[43mmodel_path\u001b[49m\u001b[43m,\u001b[49m\u001b[43m \u001b[49m\u001b[43mdevice\u001b[49m\u001b[43m \u001b[49m\u001b[43m=\u001b[49m\u001b[43m \u001b[49m\u001b[38;5;28;43mself\u001b[39;49m\u001b[43m.\u001b[49m\u001b[43mdevice\u001b[49m\u001b[43m,\u001b[49m\u001b[43m \u001b[49m\u001b[43mquantize\u001b[49m\u001b[43m=\u001b[49m\u001b[43mquantize\u001b[49m\u001b[43m)\u001b[49m\n",
      "\u001b[36mFile \u001b[39m\u001b[32m~/miniconda3/envs/docling_env/lib/python3.12/site-packages/easyocr/recognition.py:181\u001b[39m, in \u001b[36mget_recognizer\u001b[39m\u001b[34m(recog_network, network_params, character, separator_list, dict_list, model_path, device, quantize)\u001b[39m\n\u001b[32m    179\u001b[39m             \u001b[38;5;28;01mpass\u001b[39;00m\n\u001b[32m    180\u001b[39m \u001b[38;5;28;01melse\u001b[39;00m:\n\u001b[32m--> \u001b[39m\u001b[32m181\u001b[39m     model = \u001b[43mtorch\u001b[49m\u001b[43m.\u001b[49m\u001b[43mnn\u001b[49m\u001b[43m.\u001b[49m\u001b[43mDataParallel\u001b[49m\u001b[43m(\u001b[49m\u001b[43mmodel\u001b[49m\u001b[43m)\u001b[49m.to(device)\n\u001b[32m    182\u001b[39m     model.load_state_dict(torch.load(model_path, map_location=device, weights_only=\u001b[38;5;28;01mFalse\u001b[39;00m))\n\u001b[32m    184\u001b[39m \u001b[38;5;28;01mreturn\u001b[39;00m model, converter\n",
      "\u001b[36mFile \u001b[39m\u001b[32m~/miniconda3/envs/docling_env/lib/python3.12/site-packages/torch/nn/parallel/data_parallel.py:169\u001b[39m, in \u001b[36mDataParallel.__init__\u001b[39m\u001b[34m(self, module, device_ids, output_device, dim)\u001b[39m\n\u001b[32m    166\u001b[39m     _check_balance(\u001b[38;5;28mself\u001b[39m.device_ids)\n\u001b[32m    168\u001b[39m \u001b[38;5;28;01mif\u001b[39;00m \u001b[38;5;28mlen\u001b[39m(\u001b[38;5;28mself\u001b[39m.device_ids) == \u001b[32m1\u001b[39m:\n\u001b[32m--> \u001b[39m\u001b[32m169\u001b[39m     \u001b[38;5;28;43mself\u001b[39;49m\u001b[43m.\u001b[49m\u001b[43mmodule\u001b[49m\u001b[43m.\u001b[49m\u001b[43mto\u001b[49m\u001b[43m(\u001b[49m\u001b[38;5;28;43mself\u001b[39;49m\u001b[43m.\u001b[49m\u001b[43msrc_device_obj\u001b[49m\u001b[43m)\u001b[49m\n",
      "\u001b[36mFile \u001b[39m\u001b[32m~/miniconda3/envs/docling_env/lib/python3.12/site-packages/torch/nn/modules/module.py:1369\u001b[39m, in \u001b[36mModule.to\u001b[39m\u001b[34m(self, *args, **kwargs)\u001b[39m\n\u001b[32m   1366\u001b[39m         \u001b[38;5;28;01melse\u001b[39;00m:\n\u001b[32m   1367\u001b[39m             \u001b[38;5;28;01mraise\u001b[39;00m\n\u001b[32m-> \u001b[39m\u001b[32m1369\u001b[39m \u001b[38;5;28;01mreturn\u001b[39;00m \u001b[38;5;28;43mself\u001b[39;49m\u001b[43m.\u001b[49m\u001b[43m_apply\u001b[49m\u001b[43m(\u001b[49m\u001b[43mconvert\u001b[49m\u001b[43m)\u001b[49m\n",
      "\u001b[36mFile \u001b[39m\u001b[32m~/miniconda3/envs/docling_env/lib/python3.12/site-packages/torch/nn/modules/module.py:928\u001b[39m, in \u001b[36mModule._apply\u001b[39m\u001b[34m(self, fn, recurse)\u001b[39m\n\u001b[32m    926\u001b[39m \u001b[38;5;28;01mif\u001b[39;00m recurse:\n\u001b[32m    927\u001b[39m     \u001b[38;5;28;01mfor\u001b[39;00m module \u001b[38;5;129;01min\u001b[39;00m \u001b[38;5;28mself\u001b[39m.children():\n\u001b[32m--> \u001b[39m\u001b[32m928\u001b[39m         \u001b[43mmodule\u001b[49m\u001b[43m.\u001b[49m\u001b[43m_apply\u001b[49m\u001b[43m(\u001b[49m\u001b[43mfn\u001b[49m\u001b[43m)\u001b[49m\n\u001b[32m    930\u001b[39m \u001b[38;5;28;01mdef\u001b[39;00m\u001b[38;5;250m \u001b[39m\u001b[34mcompute_should_use_set_data\u001b[39m(tensor, tensor_applied):\n\u001b[32m    931\u001b[39m     \u001b[38;5;28;01mif\u001b[39;00m torch._has_compatible_shallow_copy_type(tensor, tensor_applied):\n\u001b[32m    932\u001b[39m         \u001b[38;5;66;03m# If the new tensor has compatible tensor type as the existing tensor,\u001b[39;00m\n\u001b[32m    933\u001b[39m         \u001b[38;5;66;03m# the current behavior is to change the tensor in-place using `.data =`,\u001b[39;00m\n\u001b[32m   (...)\u001b[39m\u001b[32m    938\u001b[39m         \u001b[38;5;66;03m# global flag to let the user control whether they want the future\u001b[39;00m\n\u001b[32m    939\u001b[39m         \u001b[38;5;66;03m# behavior of overwriting the existing tensor or not.\u001b[39;00m\n",
      "\u001b[36mFile \u001b[39m\u001b[32m~/miniconda3/envs/docling_env/lib/python3.12/site-packages/torch/nn/modules/module.py:928\u001b[39m, in \u001b[36mModule._apply\u001b[39m\u001b[34m(self, fn, recurse)\u001b[39m\n\u001b[32m    926\u001b[39m \u001b[38;5;28;01mif\u001b[39;00m recurse:\n\u001b[32m    927\u001b[39m     \u001b[38;5;28;01mfor\u001b[39;00m module \u001b[38;5;129;01min\u001b[39;00m \u001b[38;5;28mself\u001b[39m.children():\n\u001b[32m--> \u001b[39m\u001b[32m928\u001b[39m         \u001b[43mmodule\u001b[49m\u001b[43m.\u001b[49m\u001b[43m_apply\u001b[49m\u001b[43m(\u001b[49m\u001b[43mfn\u001b[49m\u001b[43m)\u001b[49m\n\u001b[32m    930\u001b[39m \u001b[38;5;28;01mdef\u001b[39;00m\u001b[38;5;250m \u001b[39m\u001b[34mcompute_should_use_set_data\u001b[39m(tensor, tensor_applied):\n\u001b[32m    931\u001b[39m     \u001b[38;5;28;01mif\u001b[39;00m torch._has_compatible_shallow_copy_type(tensor, tensor_applied):\n\u001b[32m    932\u001b[39m         \u001b[38;5;66;03m# If the new tensor has compatible tensor type as the existing tensor,\u001b[39;00m\n\u001b[32m    933\u001b[39m         \u001b[38;5;66;03m# the current behavior is to change the tensor in-place using `.data =`,\u001b[39;00m\n\u001b[32m   (...)\u001b[39m\u001b[32m    938\u001b[39m         \u001b[38;5;66;03m# global flag to let the user control whether they want the future\u001b[39;00m\n\u001b[32m    939\u001b[39m         \u001b[38;5;66;03m# behavior of overwriting the existing tensor or not.\u001b[39;00m\n",
      "\u001b[36mFile \u001b[39m\u001b[32m~/miniconda3/envs/docling_env/lib/python3.12/site-packages/torch/nn/modules/module.py:928\u001b[39m, in \u001b[36mModule._apply\u001b[39m\u001b[34m(self, fn, recurse)\u001b[39m\n\u001b[32m    926\u001b[39m \u001b[38;5;28;01mif\u001b[39;00m recurse:\n\u001b[32m    927\u001b[39m     \u001b[38;5;28;01mfor\u001b[39;00m module \u001b[38;5;129;01min\u001b[39;00m \u001b[38;5;28mself\u001b[39m.children():\n\u001b[32m--> \u001b[39m\u001b[32m928\u001b[39m         \u001b[43mmodule\u001b[49m\u001b[43m.\u001b[49m\u001b[43m_apply\u001b[49m\u001b[43m(\u001b[49m\u001b[43mfn\u001b[49m\u001b[43m)\u001b[49m\n\u001b[32m    930\u001b[39m \u001b[38;5;28;01mdef\u001b[39;00m\u001b[38;5;250m \u001b[39m\u001b[34mcompute_should_use_set_data\u001b[39m(tensor, tensor_applied):\n\u001b[32m    931\u001b[39m     \u001b[38;5;28;01mif\u001b[39;00m torch._has_compatible_shallow_copy_type(tensor, tensor_applied):\n\u001b[32m    932\u001b[39m         \u001b[38;5;66;03m# If the new tensor has compatible tensor type as the existing tensor,\u001b[39;00m\n\u001b[32m    933\u001b[39m         \u001b[38;5;66;03m# the current behavior is to change the tensor in-place using `.data =`,\u001b[39;00m\n\u001b[32m   (...)\u001b[39m\u001b[32m    938\u001b[39m         \u001b[38;5;66;03m# global flag to let the user control whether they want the future\u001b[39;00m\n\u001b[32m    939\u001b[39m         \u001b[38;5;66;03m# behavior of overwriting the existing tensor or not.\u001b[39;00m\n",
      "\u001b[36mFile \u001b[39m\u001b[32m~/miniconda3/envs/docling_env/lib/python3.12/site-packages/torch/nn/modules/rnn.py:291\u001b[39m, in \u001b[36mRNNBase._apply\u001b[39m\u001b[34m(self, fn, recurse)\u001b[39m\n\u001b[32m    286\u001b[39m ret = \u001b[38;5;28msuper\u001b[39m()._apply(fn, recurse)\n\u001b[32m    288\u001b[39m \u001b[38;5;66;03m# Resets _flat_weights\u001b[39;00m\n\u001b[32m    289\u001b[39m \u001b[38;5;66;03m# Note: be v. careful before removing this, as 3rd party device types\u001b[39;00m\n\u001b[32m    290\u001b[39m \u001b[38;5;66;03m# likely rely on this behavior to properly .to() modules like LSTM.\u001b[39;00m\n\u001b[32m--> \u001b[39m\u001b[32m291\u001b[39m \u001b[38;5;28;43mself\u001b[39;49m\u001b[43m.\u001b[49m\u001b[43m_init_flat_weights\u001b[49m\u001b[43m(\u001b[49m\u001b[43m)\u001b[49m\n\u001b[32m    293\u001b[39m \u001b[38;5;28;01mreturn\u001b[39;00m ret\n",
      "\u001b[36mFile \u001b[39m\u001b[32m~/miniconda3/envs/docling_env/lib/python3.12/site-packages/torch/nn/modules/rnn.py:215\u001b[39m, in \u001b[36mRNNBase._init_flat_weights\u001b[39m\u001b[34m(self)\u001b[39m\n\u001b[32m    208\u001b[39m \u001b[38;5;28mself\u001b[39m._flat_weights = [\n\u001b[32m    209\u001b[39m     \u001b[38;5;28mgetattr\u001b[39m(\u001b[38;5;28mself\u001b[39m, wn) \u001b[38;5;28;01mif\u001b[39;00m \u001b[38;5;28mhasattr\u001b[39m(\u001b[38;5;28mself\u001b[39m, wn) \u001b[38;5;28;01melse\u001b[39;00m \u001b[38;5;28;01mNone\u001b[39;00m\n\u001b[32m    210\u001b[39m     \u001b[38;5;28;01mfor\u001b[39;00m wn \u001b[38;5;129;01min\u001b[39;00m \u001b[38;5;28mself\u001b[39m._flat_weights_names\n\u001b[32m    211\u001b[39m ]\n\u001b[32m    212\u001b[39m \u001b[38;5;28mself\u001b[39m._flat_weight_refs = [\n\u001b[32m    213\u001b[39m     weakref.ref(w) \u001b[38;5;28;01mif\u001b[39;00m w \u001b[38;5;129;01mis\u001b[39;00m \u001b[38;5;129;01mnot\u001b[39;00m \u001b[38;5;28;01mNone\u001b[39;00m \u001b[38;5;28;01melse\u001b[39;00m \u001b[38;5;28;01mNone\u001b[39;00m \u001b[38;5;28;01mfor\u001b[39;00m w \u001b[38;5;129;01min\u001b[39;00m \u001b[38;5;28mself\u001b[39m._flat_weights\n\u001b[32m    214\u001b[39m ]\n\u001b[32m--> \u001b[39m\u001b[32m215\u001b[39m \u001b[38;5;28;43mself\u001b[39;49m\u001b[43m.\u001b[49m\u001b[43mflatten_parameters\u001b[49m\u001b[43m(\u001b[49m\u001b[43m)\u001b[49m\n",
      "\u001b[36mFile \u001b[39m\u001b[32m~/miniconda3/envs/docling_env/lib/python3.12/site-packages/torch/nn/modules/rnn.py:272\u001b[39m, in \u001b[36mRNNBase.flatten_parameters\u001b[39m\u001b[34m(self)\u001b[39m\n\u001b[32m    270\u001b[39m \u001b[38;5;28;01mif\u001b[39;00m \u001b[38;5;28mself\u001b[39m.proj_size > \u001b[32m0\u001b[39m:\n\u001b[32m    271\u001b[39m     num_weights += \u001b[32m1\u001b[39m\n\u001b[32m--> \u001b[39m\u001b[32m272\u001b[39m \u001b[43mtorch\u001b[49m\u001b[43m.\u001b[49m\u001b[43m_cudnn_rnn_flatten_weight\u001b[49m\u001b[43m(\u001b[49m\n\u001b[32m    273\u001b[39m \u001b[43m    \u001b[49m\u001b[38;5;28;43mself\u001b[39;49m\u001b[43m.\u001b[49m\u001b[43m_flat_weights\u001b[49m\u001b[43m,\u001b[49m\u001b[43m  \u001b[49m\u001b[38;5;66;43;03m# type: ignore[arg-type]\u001b[39;49;00m\n\u001b[32m    274\u001b[39m \u001b[43m    \u001b[49m\u001b[43mnum_weights\u001b[49m\u001b[43m,\u001b[49m\n\u001b[32m    275\u001b[39m \u001b[43m    \u001b[49m\u001b[38;5;28;43mself\u001b[39;49m\u001b[43m.\u001b[49m\u001b[43minput_size\u001b[49m\u001b[43m,\u001b[49m\n\u001b[32m    276\u001b[39m \u001b[43m    \u001b[49m\u001b[43mrnn\u001b[49m\u001b[43m.\u001b[49m\u001b[43mget_cudnn_mode\u001b[49m\u001b[43m(\u001b[49m\u001b[38;5;28;43mself\u001b[39;49m\u001b[43m.\u001b[49m\u001b[43mmode\u001b[49m\u001b[43m)\u001b[49m\u001b[43m,\u001b[49m\n\u001b[32m    277\u001b[39m \u001b[43m    \u001b[49m\u001b[38;5;28;43mself\u001b[39;49m\u001b[43m.\u001b[49m\u001b[43mhidden_size\u001b[49m\u001b[43m,\u001b[49m\n\u001b[32m    278\u001b[39m \u001b[43m    \u001b[49m\u001b[38;5;28;43mself\u001b[39;49m\u001b[43m.\u001b[49m\u001b[43mproj_size\u001b[49m\u001b[43m,\u001b[49m\n\u001b[32m    279\u001b[39m \u001b[43m    \u001b[49m\u001b[38;5;28;43mself\u001b[39;49m\u001b[43m.\u001b[49m\u001b[43mnum_layers\u001b[49m\u001b[43m,\u001b[49m\n\u001b[32m    280\u001b[39m \u001b[43m    \u001b[49m\u001b[38;5;28;43mself\u001b[39;49m\u001b[43m.\u001b[49m\u001b[43mbatch_first\u001b[49m\u001b[43m,\u001b[49m\n\u001b[32m    281\u001b[39m \u001b[43m    \u001b[49m\u001b[38;5;28;43mbool\u001b[39;49m\u001b[43m(\u001b[49m\u001b[38;5;28;43mself\u001b[39;49m\u001b[43m.\u001b[49m\u001b[43mbidirectional\u001b[49m\u001b[43m)\u001b[49m\u001b[43m,\u001b[49m\n\u001b[32m    282\u001b[39m \u001b[43m\u001b[49m\u001b[43m)\u001b[49m\n",
      "\u001b[31mAcceleratorError\u001b[39m: CUDA error: no kernel image is available for execution on the device\nCUDA kernel errors might be asynchronously reported at some other API call, so the stacktrace below might be incorrect.\nFor debugging consider passing CUDA_LAUNCH_BLOCKING=1\nCompile with `TORCH_USE_CUDA_DSA` to enable device-side assertions.\n"
     ]
    }
   ],
   "source": [
    "from docling.document_converter import DocumentConverter\n",
    "\n",
    "source = \"/storage/data_4T_b/andreacutuli/PROVA/Documents/FAC-SIMILE 1.1.pdf\"  # document per local path or URL\n",
    "converter = DocumentConverter()\n",
    "result = converter.convert(source)\n",
    "print(result.document.export_to_markdown())  # output: \"## Docling Technical Report[...]\""
   ]
  },
  {
   "cell_type": "code",
   "execution_count": 17,
   "id": "5d7bb828",
   "metadata": {},
   "outputs": [
    {
     "name": "stdout",
     "output_type": "stream",
     "text": [
      "File salvato come result_document.md\n"
     ]
    }
   ],
   "source": [
    "file_name = \"result_document.md\"  # nome del file\n",
    "with open(file_name, \"w\", encoding=\"utf-8\") as file:\n",
    "    file.write(result.document.export_to_markdown())\n",
    "\n",
    "print(f\"File salvato come {file_name}\")"
   ]
  },
  {
   "cell_type": "code",
   "execution_count": 19,
   "id": "7a4a9e3c",
   "metadata": {},
   "outputs": [
    {
     "name": "stdout",
     "output_type": "stream",
     "text": [
      "## EcoTech Solutions S.r.l.\n",
      "\n",
      "per GreenLife S.p.A. Via dell'Innovazione 42, 20121 Milano (MI), Italia\n",
      "\n",
      "Soluzioni di Intelligenza Artificiale per l'Ottimizzazione del Processo di Riciclo Industriale\n",
      "\n",
      "Implementazione di Sistemi AI per l'Analisi dei Materiali e l'Efficienza Energetica\n",
      "\n",
      "## Proposta contrattuale\n",
      "\n",
      "Versione: 1.3 Validità: 60 giorni\n",
      "\n",
      "Destinatario: Marco Bianchi m.bianchi@greenlifespa.eu Laura Verdi l.verdi@greenlifespa.eu Andrea Rossi a.rossi@greenlifespa.eu\n",
      "\n",
      "Redatta da: Dott.ssa Elena M\n"
     ]
    }
   ],
   "source": [
    "# This is a long document we can split up.\n",
    "with open(\"/storage/data_4T_b/andreacutuli/PROVA/Scripts/result_document.md\") as f:\n",
    "    fac_simile = f.read()\n",
    "print(fac_simile[:500])"
   ]
  },
  {
   "cell_type": "code",
   "execution_count": 20,
   "id": "4dcd4ffe",
   "metadata": {},
   "outputs": [
    {
     "name": "stderr",
     "output_type": "stream",
     "text": [
      "/storage/data_4T_b/andreacutuli/miniconda3/envs/retrievers/lib/python3.13/site-packages/sentence_transformers/SentenceTransformer.py:196: FutureWarning: The `use_auth_token` argument is deprecated and will be removed in v4 of SentenceTransformers.\n",
      "  warnings.warn(\n"
     ]
    }
   ],
   "source": [
    "from langchain_experimental.text_splitter import SemanticChunker\n",
    "from langchain_huggingface import HuggingFaceEmbeddings\n",
    "\n",
    "\n",
    "# Usa un modello open-source per gli embeddings (gratuito, nessuna chiave API richiesta)\n",
    "#embedding_model = HuggingFaceEmbeddings(model_name=\"Musixmatch/umberto-commoncrawl-cased-v1\")\n",
    "#embedding_model = HuggingFaceEmbeddings(model_name=\"sentence-transformers/all-MiniLM-L6-v2\")\n",
    "\n",
    "embedding_model = HuggingFaceEmbeddings(\n",
    "    model_name=\"intfloat/multilingual-e5-large\",\n",
    "    model_kwargs={\"use_auth_token\": \"[REMOVED]\"}\n",
    ")\n",
    "\n",
    "\n",
    "# Crea il SemanticChunker con gli embeddings open-source\n",
    "text_splitter = SemanticChunker(\n",
    "    embeddings=embedding_model,\n",
    "    breakpoint_threshold_amount=95.0\n",
    ")"
   ]
  },
  {
   "cell_type": "code",
   "execution_count": 21,
   "id": "79403b22",
   "metadata": {},
   "outputs": [
    {
     "name": "stdout",
     "output_type": "stream",
     "text": [
      "## EcoTech Solutions S.r.l. per GreenLife S.p.A. Via dell'Innovazione 42, 20121 Milano (MI), Italia\n",
      "\n",
      "Soluzioni di Intelligenza Artificiale per l'Ottimizzazione del Processo di Riciclo Industriale\n",
      "\n",
      "Implementazione di Sistemi AI per l'Analisi dei Materiali e l'Efficienza Energetica\n",
      "\n",
      "## Proposta contrattuale\n",
      "\n",
      "Versione: 1.3 Validità: 60 giorni\n",
      "\n",
      "Destinatario: Marco Bianchi m.bianchi@greenlifespa.eu Laura Verdi l.verdi@greenlifespa.eu Andrea Rossi a.rossi@greenlifespa.eu\n",
      "\n",
      "Redatta da: Dott.ssa Elena Marino elena.marino@ecotech.srl\n",
      "\n",
      "Revisionata da: Prof. Paolo Ferretti ferretti@polimi.it\n",
      "\n",
      "Per EcoTech Solutions S.r.l. Per GreenLife S.p.A. ## 1. Introduzione\n",
      "\n",
      "## 1.1. Scopo del Documento\n",
      "\n",
      "Scopo del presente documento è descrivere la proposta contrattuale di EcoTech Solutions S.r.l. (in seguito EcoTech) verso GreenLife S.p.A. (in seguito GreenLife oppure Committente), per la realizzazione del progetto:\n",
      "\n",
      "## Soluzioni  di  Intelligenza  Artificiale  per  l'Ottimizzazione  del  Processo  di  Riciclo Industriale\n",
      "\n",
      "La proposta nasce dall'esigenza di GreenLife di integrare soluzioni avanzate di intelligenza artificiale  per  migliorare  l'efficienza  e  la  sostenibilità  del  proprio  processo  di  riciclo industriale  e  produzione  di  packaging  ecosostenibile. In  particolare,  il  progetto  mira  a sviluppare e implementare sistemi di analisi automatica dei materiali riciclabili, ottimizzazione  dei  processi  di  smistamento  e  monitoraggio  dell'efficienza  energetica,  in modo  da  massimizzare  il  recupero  di  materiali  e  ridurre  l'impatto  ambientale  delle operazioni. Per la formulazione dell'offerta, EcoTech ha considerato le interazioni avvenute tra i propri rappresentanti, Elena Marino, Davide Ricci e Sofia Conti, e il personale di GreenLife. Questo documento descrive i dettagli  tecnici  e  operativi  del  progetto,  includendo  tempi,  costi,  e modalità di esecuzione, con l'obiettivo di fornire una soluzione su misura per le esigenze specifiche del Committente. ## 1.2. Obiettivi del Progetto\n",
      "\n",
      "Il progetto 'Soluzioni di Intelligenza Artificiale per l'Ottimizzazione del Processo di Riciclo Industriale' ha come obiettivo principale l'integrazione di tecnologie avanzate di intelligenza artificiale per migliorare l'efficacia e l'efficienza delle operazioni di riciclo e produzione di GreenLife S.p.A. Gli obiettivi specifici del progetto includono:\n",
      "\n",
      "- 1. Automatizzazione dell'Analisi dei Materiali Riciclabili. - 2. Ottimizzazione dei Processi di Smistamento. - 3. Monitoraggio dell'Efficienza Energetica dei Macchinari. ## 1.3. Validità\n",
      "\n",
      "La presente offerta è valida 60gg. a decorrere dalla data dell'offerta. ## 2.\n",
      "/n\n",
      "13\n"
     ]
    }
   ],
   "source": [
    "docs = text_splitter.create_documents([fac_simile])\n",
    "print(docs[0].page_content)\n",
    "print(\"/n\")\n",
    "print(len(docs))"
   ]
  },
  {
   "cell_type": "code",
   "execution_count": 22,
   "id": "4e69d23a",
   "metadata": {},
   "outputs": [
    {
     "name": "stdout",
     "output_type": "stream",
     "text": [
      "Chunk 0:\n",
      "## EcoTech Solutions S.r.l. per GreenLife S.p.A. Via dell'Innovazione 42, 20121 Milano (MI), Italia\n",
      "\n",
      "Soluzioni di Intelligenza Artificiale per l'Ottimizzazione del Processo di Riciclo Industriale\n",
      "\n",
      "Implementazione di Sistemi AI per l'Analisi dei Materiali e l'Efficienza Energetica\n",
      "\n",
      "## Proposta contrattuale\n",
      "\n",
      "Versione: 1.3 Validità: 60 giorni\n",
      "\n",
      "Destinatario: Marco Bianchi m.bianchi@greenlifespa.eu Laura Verdi l.verdi@greenlifespa.eu Andrea Rossi a.rossi@greenlifespa.eu\n",
      "\n",
      "Redatta da: Dott.ssa Elena Marino elena.marino@ecotech.srl\n",
      "\n",
      "Revisionata da: Prof. Paolo Ferretti ferretti@polimi.it\n",
      "\n",
      "Per EcoTech Solutions S.r.l. Per GreenLife S.p.A. ## 1. Introduzione\n",
      "\n",
      "## 1.1. Scopo del Documento\n",
      "\n",
      "Scopo del presente documento è descrivere la proposta contrattuale di EcoTech Solutions S.r.l. (in seguito EcoTech) verso GreenLife S.p.A. (in seguito GreenLife oppure Committente), per la realizzazione del progetto:\n",
      "\n",
      "## Soluzioni  di  Intelligenza  Artificiale  per  l'Ottimizzazione  del  Processo  di  Riciclo Industriale\n",
      "\n",
      "La proposta nasce dall'esigenza di GreenLife di integrare soluzioni avanzate di intelligenza artificiale  per  migliorare  l'efficienza  e  la  sostenibilità  del  proprio  processo  di  riciclo industriale  e  produzione  di  packaging  ecosostenibile. In  particolare,  il  progetto  mira  a sviluppare e implementare sistemi di analisi automatica dei materiali riciclabili, ottimizzazione  dei  processi  di  smistamento  e  monitoraggio  dell'efficienza  energetica,  in modo  da  massimizzare  il  recupero  di  materiali  e  ridurre  l'impatto  ambientale  delle operazioni. Per la formulazione dell'offerta, EcoTech ha considerato le interazioni avvenute tra i propri rappresentanti, Elena Marino, Davide Ricci e Sofia Conti, e il personale di GreenLife. Questo documento descrive i dettagli  tecnici  e  operativi  del  progetto,  includendo  tempi,  costi,  e modalità di esecuzione, con l'obiettivo di fornire una soluzione su misura per le esigenze specifiche del Committente. ## 1.2. Obiettivi del Progetto\n",
      "\n",
      "Il progetto 'Soluzioni di Intelligenza Artificiale per l'Ottimizzazione del Processo di Riciclo Industriale' ha come obiettivo principale l'integrazione di tecnologie avanzate di intelligenza artificiale per migliorare l'efficacia e l'efficienza delle operazioni di riciclo e produzione di GreenLife S.p.A. Gli obiettivi specifici del progetto includono:\n",
      "\n",
      "- 1. Automatizzazione dell'Analisi dei Materiali Riciclabili. - 2. Ottimizzazione dei Processi di Smistamento. - 3. Monitoraggio dell'Efficienza Energetica dei Macchinari. ## 1.3. Validità\n",
      "\n",
      "La presente offerta è valida 60gg. a decorrere dalla data dell'offerta. ## 2.\n",
      "\n",
      "\n",
      "Chunk 1:\n",
      "Specifiche di Progetto\n",
      "\n",
      "## 2.1. Descrizione dell'Intervento\n",
      "\n",
      "L'oggetto della presente offerta è relativo alla fornitura di un sistema basato su intelligenza artificiale  per  l'automatizzazione  dell'analisi  dei  materiali  riciclabili,  l'ottimizzazione  dei processi  di  smistamento  e  il  monitoraggio  dell'efficienza  energetica  nel  contesto  del processo di riciclo industriale. EcoTech fornirà il proprio servizio di consulenza per indirizzare l'attività di sviluppo con l'obiettivo specifico di:\n",
      "\n",
      "- ●  Investigare  lo  Stato  dell'Arte  e  individuare  le  migliori  soluzioni  disponibili  per  il riconoscimento  automatico  dei  materiali,  l'ottimizzazione  dei  processi  e  il  monitoraggio energetico. - ● Definire,  insieme  al  personale  di  GreenLife,  i  requisiti  funzionali  e  non  funzionali  del sistema,  inclusi  i  dettagli  sugli  input  e  output  attesi,  per  garantire  che  tutte  le  soluzioni implementate rispondano pienamente alle esigenze del Committente. - ● Implementare e testare un sistema di analisi automatica dei materiali con funzionalità avanzate come il preprocessing delle immagini e la classificazione dei contaminanti. - ● Sviluppare un modulo di ottimizzazione dei processi per massimizzare l'efficienza del sistema di smistamento, riducendo gli scarti e migliorando la qualità del prodotto finale. - ● Implementare un sistema di monitoraggio energetico per tenere traccia dei consumi e identificare opportunità di risparmio energetico. L'intervento può essere suddiviso nelle 3 seguenti Attività:\n",
      "\n",
      "- 1. Attività 1: Sviluppo del Sistema di Analisi dei Materiali. - 2. Attività 2: Sviluppo del Modulo di Ottimizzazione dei Processi. - 3.\n",
      "\n",
      "\n",
      "Chunk 2:\n",
      "Attività 3: Implementazione del Sistema di Monitoraggio Energetico. EcoTech nelle attività di consulenza e progettuali sopra descritte metterà in campo un team composto dalle seguenti tipologie di figure professionali:\n",
      "\n",
      "| Nome                       | Descrizione figura professionale                                                 |\n",
      "|----------------------------|----------------------------------------------------------------------------------|\n",
      "| 1 Master AI Engineer       | 10+ anni di esperienza lavorativa e di ricerca nello sviluppo di soluzioni di AI |\n",
      "| 1 Senior AI developer + PM | 5+ anni di esperienza lavorativa nello sviluppo di soluzioni di AI applicate     |\n",
      "| 2+ Expert AI developer     | 2+ anni di esperienza lavorativa nello sviluppo di soluzione di AI applicate     |\n",
      "\n",
      "## 2.2. Descrizione delle Attività\n",
      "\n",
      "## 2.2.1. Attività 1: Sviluppo del Sistema di Analisi dei Materiali\n",
      "\n",
      "Questa  attività  è  dedicata  allo  sviluppo  e  all'implementazione  di  un  sistema  di  analisi automatica  dei  materiali,  finalizzato  a  identificare  e  classificare  i  materiali  riciclabili  in ingresso. L'obiettivo  è  automatizzare  il  processo  di  analisi  dei  materiali,  migliorando  la qualità delle classificazioni attraverso tecniche avanzate di preprocessing delle immagini, riconoscimento dei materiali e implementazione di alert per contaminanti. L'Attività 1 è composta dai seguenti Work Packages (WP):\n",
      "\n",
      "## WP 1.1: Sviluppo e Implementazione del Sistema di Riconoscimento\n",
      "\n",
      "- ● Descrizione : Ricerca delle migliori tecniche disponibili per il riconoscimento automatico dei materiali, quindi sviluppo del sistema di analisi automatica, con l'obiettivo di raggiungere un'accuratezza minima del 95% nella classificazione dei materiali. È importante notare che il raggiungimento di questo target di accuracy sarà un obiettivo realistico solo se il sistema sarà applicato a materiali sufficientemente puliti e ben separati. - ● Assumptions : Fornitura  di  campioni  di  materiali  da  parte  del  Committente  per l'eventuale training, test e validazione del sistema; supporto tecnico continuo del Committente. - ● Deliverables (D1) :  ○ Sistema di riconoscimento automatico con target di accuracy del 95%  (soggetto  alla  qualità  dei  campioni  forniti). ○  Documentazione  tecnica  e  report prestazioni. ## WP 1.2: Preprocessing: Calibrazione dei Sensori Ottici\n",
      "\n",
      "- ● Descrizione : Implementazione  di  un  modulo  per  la  calibrazione  dei  sensori  ottici, migliorando la qualità delle immagini per un riconoscimento più accurato. - ● Assumptions :  Accesso  ai  sensori  ottici  esistenti  con  vari  livelli  di  illuminazione  per l'eventuale addestramento e la validazione del modulo. - ● Deliverables (D1) : ○ Modulo di calibrazione dei sensori ottici. ○ Documentazione tecnica e report prestazioni. ## WP 1.3: Categorizzazione dei Materiali e Alert per Contaminanti\n",
      "\n",
      "- ● Descrizione : Sviluppo e integrazione di un modulo per la categorizzazione dettagliata dei materiali e implementazione  di un sistema di alert per contaminanti definiti dal Committente. - ● Assumptions : Definizione chiara delle categorie di materiali e dei contaminanti da parte del Committente. - ● Deliverables (D1) : ○ Modulo per la categorizzazione dei materiali. ○ Sistema di alert per contaminanti. ○ Documentazione tecnica e report prestazioni.\n",
      "\n",
      "\n",
      "Chunk 3:\n",
      "## 2.2.2. Attività 2: Sviluppo del Modulo di Ottimizzazione dei Processi\n",
      "\n",
      "Questa attività è dedicata allo sviluppo e all'implementazione di un modulo di intelligenza artificiale  in  grado  di  ottimizzare  i  processi  di  smistamento  e  di  prevedere  la  qualità del prodotto  finale. L'obiettivo è massimizzare  l'efficienza del sistema di smistamento, riducendo gli scarti e migliorando la qualità del prodotto finale. L'Attività 2 è composta dai seguenti Work Packages (WP):\n",
      "\n",
      "## WP 2.1: Sviluppo e Implementazione del Modulo di Ottimizzazione\n",
      "\n",
      "- ● Descrizione :  Ricerca approfondita sulle tecniche più avanzate per l'ottimizzazione dei processi industriali, con focus su soluzioni che siano particolarmente efficaci in un contesto di  riciclo. A  seguito  di  questa  analisi,  sviluppo  e  implementazione  di  un  modulo  di ottimizzazione in grado di migliorare l'efficienza del sistema di smistamento, identificando i parametri ottimali per massimizzare il recupero di materiali e ridurre gli scarti. - ● Assumptions : Fornitura  di  dati  storici  sui  processi  e  relativi  risultati  da  parte  del Committente per il training e la validazione del modulo; supporto continuo del Committente. - ● Deliverables (D2) : ○ Modulo di ottimizzazione dei processi. ○ Documentazione tecnica e report prestazioni. ## WP 2.2: Sviluppo e Implementazione del Modulo di Previsione\n",
      "\n",
      "- ● Descrizione : Ricerca delle tecniche disponibili per la previsione della qualità del prodotto finale. Sviluppo e implementazione di un modulo che possa prevedere la qualità del prodotto finale in base ai parametri di processo e alle caratteristiche dei materiali in ingresso. - ● Assumptions : Fornitura di un dataset di prodotti finali e della loro qualità da parte del Committente per il training e la validazione del modulo; supporto continuo del Committente nella definizione dei criteri di qualità. - ● Deliverables (D2) :  ○  Modulo di previsione della qualità. ○ Documentazione tecnica e report prestazioni. ## 2.2.3. Attività 3: Implementazione del Sistema di Monitoraggio Energetico\n",
      "\n",
      "Questa  attività  si  concentra  sullo  sviluppo  e  l'integrazione  di  un  sistema  di  intelligenza artificiale per  il monitoraggio  energetico  dei  macchinari. L'obiettivo  è  monitorare  e ottimizzare  i  consumi  energetici,  identificando  opportunità  di  risparmio  e  migliorando l'efficienza complessiva del processo. L'Attività 3 è composta dai seguenti Work Packages (WP):\n",
      "\n",
      "## WP 3.1: Investigazione dello Stato dell'Arte\n",
      "\n",
      "- ● Descrizione :  Ricerca  e  analisi  delle  migliori  soluzioni  disponibili  per  il  monitoraggio energetico  nei  processi  industriali. Particolare  attenzione  sarà  data  agli  algoritmi  di intelligenza artificiale che possono essere applicati per identificare pattern di consumo e opportunità di ottimizzazione. - ● Assumptions :  Accesso a risorse tecnologiche e pubblicazioni scientifiche; supporto del Committente nella definizione dei requisiti specifici per il monitoraggio energetico. - ● Deliverables  (D3) : ○  Report  sulle  soluzioni  all'avanguardia  per  il  monitoraggio energetico nei processi industriali. ## WP 3.2: Sviluppo e Implementazione del Modulo di Monitoraggio Energetico\n",
      "\n",
      "- ● Descrizione : Sviluppo e implementazione del modulo di monitoraggio energetico, capace di tracciare i consumi dei macchinari e identificare opportunità di risparmio. - ● Assumptions : Fornitura di dati storici sui consumi energetici da parte del Committente per il training e la validazione del modulo; supporto continuo del Committente. - ● Deliverables (D3) : ○ Modulo di monitoraggio energetico implementato. ○ Documentazione tecnica e report prestazioni. ## 2.3. Testing, Validazione e Rilascio dei Moduli\n",
      "\n",
      "Pur  non  essendo  dettagliati  come  Work  Packages  separati,  tutti  i  moduli  e  gli  algoritmi sviluppati nell'ambito di questo progetto saranno sottoposti a rigorosi processi di testing e validazione. Questi  processi  garantiranno  che  le  soluzioni  rilasciate  siano  conformi  ai requisiti specificati e che soddisfino gli standard di qualità attesi dal Committente. Il testing e  la  validazione  includeranno  l'analisi  delle  performance,  la  verifica  dell'accuratezza  e  la robustezza dei moduli, nonché la loro efficienza in ambienti operativi reali. Inoltre,  tutte  le  soluzioni  rilasciate  saranno  distribuite  come  micro-servizi  all'interno  di immagini  Docker. Questo  approccio  garantirà  una  maggiore  flessibilità  e  facilità  di integrazione  delle  soluzioni  nel  sistema  esistente  del  Committente. Ogni  micro-servizio esporrà delle chiamate REST-API, progettate per essere facilmente interrogabili e integrabili, consentendo  al  Committente  di  accedere  e  utilizzare  le  funzionalità  dei  moduli  in  modo semplice ed efficiente. Questa architettura modulare permetterà anche una manutenzione più agevole e un'eventuale espansione futura delle soluzioni. Le soluzioni sviluppate saranno rilasciate e installate, attraverso le modalità sopra-descritte, on-premise presso i server del Committente. Questo implica che l'infrastruttura hardware e le  risorse  di  calcolo  necessarie  per  garantire  le  performance  desiderate  dovranno  essere fornite e gestite dal Committente stesso. ## 2.4. Considerazioni sui Tempi Computazionali\n",
      "\n",
      "Data la natura sperimentale del progetto e il numero di modelli di intelligenza artificiale coinvolti, non è possibile garantire a priori il processamento di 10 tonnellate di materiali entro 8 ore. Le performance computazionali dipenderanno significativamente dall'hardware su  cui  le  soluzioni  verranno  eseguite,  un  fattore  che  gioca  un  ruolo  cruciale  e  che  non  è attualmente noto. ## 2.5. Out of Scope\n",
      "\n",
      "Sono escluse dagli interventi previsti attività quali: ● interventi non previsti specificatamente nella presente offerta. Il servizio reso è da intendersi quale prestazione di mezzi, esso non garantisce in alcun modo che le previsioni di accadimento si realizzino perfettamente nei termini ipotizzati mediante la modellazione matematica che ne costituisce parte integrante. Il servizio è da intendersi quale miglior apporto di competenza e professionalità che EcoTech può rendere al proprio Cliente per mitigare e ridurre, per quanto nelle sue conoscenze, il livello di incertezza degli accadimenti  futuri  per  la previsione  dei  quali è stato richiesto il Servizio offerto. Conseguentemente  EcoTech  non  risponde  di  nessun  danno  che  non  sia  direttamente imputabile alla propria esclusiva organizzazione di mezzi e risorse per l'esecuzione della propria prestazione per come sopra descritta. ## 3.\n",
      "\n",
      "\n",
      "Chunk 4:\n",
      "Organizzazione del Progetto\n",
      "\n",
      "## 3.1. Risorse e Planning\n",
      "\n",
      "Sulla base della configurazione descritta, la durata prevista del progetto è di circa 6 mesi, a partire dalla Riunione di avvio progetto debitamente descritta nel Paragrafo 3.2. Controllo e Gestione. Le  attività  operative  saranno  gestite  attraverso  una  modalità  di  lavoro  basata  sulla metodologia AGILE con sprint bisettimanali. Sarà prevista una riunione ogni due settimane di circa 1 ora, che si terrà da remoto in un giorno della settimana da concordare tra le parti, per  la  revisione  di  quanto  sviluppato  e  la  pianificazione  delle  attività  da  eseguire  nei successivi sprint. Lo sviluppo verrà realizzato sfruttando l'infrastruttura di calcolo (es. virtual machine) di EcoTech ed il codice verrà storicizzato in un apposito repository (GIT). Il codice e i modelli realizzati verranno poi messi a disposizione del Committente per il deployment sulla propria infrastruttura. Sarà cura e responsabilità del Committente governare gli avanzamenti delle attività in carico ai gruppi di lavoro interni e garantire assumptions e tempistiche. EcoTech si impegna nel dare avvio alle attività entro 2 settimane dalla sottoscrizione del contratto o dalla ricezione dell'accettazione della presente proposta contrattuale da parte del Committente. Il Progetto è organizzato secondo il GANTT riportato in Tabella 1. <!-- image -->\n",
      "\n",
      "|   WPs | Mese 1   | Mese 2   | Mese 3   | Mese 4   | Mese 5   | Mese 6   |\n",
      "|-------|----------|----------|----------|----------|----------|----------|\n",
      "|   1.1 | ████ █   | ████ █   |          |          |          |          |\n",
      "|   1.2 |          | ████     | ████     |          |          |          |\n",
      "|   1.3 |          |          | ████     | ████     |          |          |\n",
      "|   2.1 |          |          |          | ████ █   | ████     |          |\n",
      "|   2.2 |          |          |          |          | ████     | ████     |\n",
      "|   3.1 |          |          |          |          | ████     |          |\n",
      "\n",
      "█\n",
      "\n",
      "3.2\n",
      "\n",
      "Tabella 1. GANTT.\n",
      "\n",
      "\n",
      "Chunk 5:\n",
      "D1\n",
      "\n",
      "D2\n",
      "\n",
      "████\n",
      "\n",
      "█\n",
      "\n",
      "D3\n",
      "\n",
      "## 3.2. Controllo e Gestione\n",
      "\n",
      "Il  controllo  di  progetto  sarà  attuato  attraverso  una  serie  di  incontri  fra  le  parti,  così strutturati:\n",
      "\n",
      "- ● Riunione di avvio progetto Questa riunione permette la revisione e definizione degli scopi  delle  attività  del  progetto,  la  pianificazione  di  dettaglio  del  lavoro,  i  contenuti,  la formalizzazione dell'organizzazione di progetto. Nella riunione di avvio progetto verranno identificati due Responsabili di Progetto, uno per EcoTech (il Project Manager) e uno per il Committente, che insieme garantiranno il controllo delle attività e concorderanno ogni possibile azione di miglioramento per convergere verso gli obiettivi. - ● Riunione di avanzamento progetto e pianificazione risorse Riunioni periodiche che consentono  di  validare  gli  stati  di  avanzamento  del  progetto,  confermare  le  specifiche progettuali rispetto alle condizioni iniziali, apportare eventuali modifiche all'organizzazione di progetto e di pianificare il coinvolgimento delle risorse EcoTech. In qualsiasi momento può essere convocato un 'ad hoc meeting' su richiesta di qualsiasi figura coinvolta nel progetto al fine di chiarire una specifica situazione. ## 4.\n",
      "\n",
      "\n",
      "Chunk 6:\n",
      "Offerta Economica\n",
      "\n",
      "## 4.1. Valore Economico dell'Intervento\n",
      "\n",
      "Sulla base della soluzione proposta, si stima un valore complessivo di:\n",
      "\n",
      "## 65.000 € (sessantacinquemila euro)\n",
      "\n",
      "Tale valorizzazione è stimata considerando la seguente Tabella 2. |   Attività | Costo [€]   |\n",
      "|------------|-------------|\n",
      "|          1 | 25.000 €    |\n",
      "|          2 | 20.000 €    |\n",
      "\n",
      "3\n",
      "\n",
      "20.000 €\n",
      "\n",
      "Tabella 2. Costo per Attività. L'offerta economica complessiva include:\n",
      "\n",
      "- ● le prestazioni erogate dagli specialisti EcoTech;\n",
      "- ● coordinamento gestionale del progetto. I valori sopra riportati sono da intendersi IVA esclusa.\n",
      "\n",
      "\n",
      "Chunk 7:\n",
      "## 4.2. Condizioni di Fatturazione\n",
      "\n",
      "La fatturazione avverrà secondo le seguenti modalità:\n",
      "\n",
      "- ● Emissione fattura da 20.000 € alla sottoscrizione del contratto. - ● Emissione fattura da 15.000 € a completamento del D1. - ● Emissione fattura da 15.000 € a completamento del D2. - ● Emissione fattura da 15.000 € a completamento del D3. Il pagamento delle fatture avverrà in ogni caso a 30 giorni dalla data di fatturazione, in difetto si applicheranno gli interessi moratori per transazioni commerciali previsti dalla normativa italiana (Decreto Legislativo 09 ottobre 2002 n. 231 e ss.mm.ii). La decorrenza del termine previsto  per  il  pagamento  delle  fatture  darà  facoltà  a  EcoTech  di  risolvere  di  diritto  il contratto ai sensi dell'art. 1456 c.c.. Eventuali modifiche alle condizioni di pagamento devono essere concordate dalle parti per iscritto.\n",
      "\n",
      "\n",
      "Chunk 8:\n",
      "## 4.3. Assistenza e Manutenzione\n",
      "\n",
      "EcoTech  fornirà  un  servizio  di  assistenza  e  manutenzione  incluso  nel  progetto  per  un periodo di 180 giorni a partire dall'ultimo rilascio del software (D3). Durante questo periodo, il servizio coprirà la risoluzione di bug e la realizzazione di modifiche minori, che verranno concordate tra EcoTech e il Committente. Successivamente ai 180 giorni, il servizio di assistenza e manutenzione sarà disponibile al costo  di  €  6.000  annui,  IVA  esclusa. Il  pagamento  sarà  suddiviso  in  due  rate  da  €  3.000 ciascuna, da effettuare ogni sei mesi dalla sottoscrizione. L'assistenza comprende la risoluzione di bug e l'implementazione di modifiche minori, che verranno  concordate  tra  EcoTech  e  il  Committente  prima  di  essere  eseguite. Eventuali interventi  che superano l'ambito di assistenza e manutenzione standard saranno qu otati separatamente e concordati con il Committente. Il pagamento del servizio di assistenza e manutenzione, successivo ai 180 giorni incluso, sarà fatturato ogni sei mesi, con le condizioni sopra specificate. Eventuali costi aggiuntivi saranno concordati e fatturati separatamente.\n",
      "\n",
      "\n",
      "Chunk 9:\n",
      "## 4.4. Esclusioni\n",
      "\n",
      "Il corrispettivo richiesto non comprende:\n",
      "\n",
      "- ● costi di acquisto di licenze software per lo svolgimento del progetto, o altre che, all'esito di modifiche progettuali consensualmente definite, si dimostrassero necessarie e ad oggi non previste né prevedibili;\n",
      "- ● costi di acquisto o noleggio di server di calcolo ad alte prestazioni, qualora, all'esito di modifiche progettuali consensualmente definite, si dimostrassero necessari per le elaborazioni del software compatibilmente con i tempi richiesti, e ad oggi non previsti né prevedibili;\n",
      "- ● costi per trasferte presso la sede del Committente o missioni al di fuori della sede EcoTech;\n",
      "- ● eventuali attività di Change Request come da Art. 4.4.1. Change Request;\n",
      "- ● tutto quanto non specificatamente compreso. Eventuali costi aggiuntivi saranno preventivamente concordati con il Committente. Tutti i costi anticipati da EcoTech saranno successivamente addebitati al Committente sulla base delle copie dei giustificativi di spesa. ## 4.4.1. Change Request\n",
      "\n",
      "Eventuali Change Request (CR), ovvero richieste di interventi non previsti nella Specifica di progetto di cui all'art. 2.\n",
      "\n",
      "\n",
      "Chunk 10:\n",
      "Specifica di Progetto e che rientrano in quanto previsto nell'art. 2.5. Out of Scope della medesima Specifica di Progetto, verranno qu otate al di fuori della presente offerta, salva, in ogni caso, la puntuale preventivazione che EcoTech si riserva di presentare. Nessuna disposizione del presente paragrafo autorizza il Committente ad esigere prestazioni che non costituiscano l'esecuzione della Specifica di Progetto secondo quanto ivi indicato. Le CR saranno gestite tramite un documento di richieste, che EcoTech valuterà in termini di stime  di  tempi  ed  effort  per  l'elaborazione. Qualora  l'intervento  venga  autorizzato  dal Committente, EcoTech procederà alla realizzazione nei tempi previsti. ## 5.\n",
      "\n",
      "\n",
      "Chunk 11:\n",
      "Condizioni Generali\n",
      "\n",
      "## 5.1. Clausole di Riservatezza\n",
      "\n",
      "Nell'esecuzione dell'attività sono considerate riservate soltanto le informazioni chiaramente identificate come tali. Non sono comunque considerate riservate le informazioni:\n",
      "\n",
      "- ● che siano di pubblico dominio o diventino tali a seguito di azioni od omissioni da parte del Committente,\n",
      "- ● che siano  state  legittimamente  comunicate  a  EcoTech  da  terze  parti  senza  obbligo  di riservatezza,\n",
      "- ● che siano state sviluppate da EcoTech indipendentemente dal Committente,\n",
      "- ● che siano rese pubbliche per legge,\n",
      "- ● che siano conosciute da EcoTech prima di averle ricevute dal Committente. EcoTech  si  impegna  a  mantenere  il  più  stretto  riserbo  sulle  informazioni  riservate, trattandole con diligenza non inferiore a quella con cui sono trattate le proprie. EcoTech si impegna inoltre a non eseguire alcun trattamento, comunicazione, diffusione o utilizzo, al di fuori delle finalità della presente offerta, dei dati del Committente e di soggetti terzi  di  cui  venga  eventualmente  a  conoscenza  nell'esercizio  delle  attività  previste  nella presente offerta. Per 'dati' si intendono le informazioni, la documentazione e quant'altro di cui EcoTech venga a conoscenza in relazione alla prestazione dei servizi richiesti. I dati  di  natura  confidenziale  contenuti  nella  presente  offerta  non  dovranno  essere comunicati o diffusi al di fuori dei fini dell'offerta stessa. EcoTech riterrà veritiera, senza ulteriori verifiche, ogni informazione o materiale che le sia fornito o che sia stato ottenuto attraverso normali fonti di informazione. ## 5.2. Proprietà, Uso e Riproduzione\n",
      "\n",
      "EcoTech  detiene  tutti  i  diritti  di  proprietà  intellettuale  sui  sistemi  e  software  sviluppati nell'ambito  del  presente  progetto. Il  Committente  avrà  diritto  a  un  utilizzo  esclusivo  del software  per  le  attività  di  analisi  dei  materiali  riciclabili  nel  settore  specifico  del  riciclo industriale. Questo diritto di esclusività sarà concesso gratuitamente per un periodo di sei mesi a partire dall'ultima release del software. Successivamente a questo periodo iniziale, l'esclusività potrà essere mantenuta a fronte di un pagamento annuo di € 8.000, IVA esclusa. Tale esclusività si applica esclusivamente al settore del riciclo industriale, pertanto EcoTech si riserva il diritto di utilizzare, modificare, e commercializzare il software in qualsiasi altro settore o contesto, senza limitazioni. L'uso esclusivo accordato al Committente si limita strettamente alle finalità specifiche del progetto,  escludendo  qualsiasi  altra  forma  di  utilizzo  non  espressamente  autorizzata  da EcoTech. Non è concessa al Committente alcuna licenza di riproduzione, trasferimento, né il diritto di sub-licenza  del  software,  sia  in  tutto  che  in  parte. Qualsiasi  tentativo  di riproduzione, distribuzione, trasferimento del software o di concessione di sub-licenze, sarà considerato  una  violazione  dei  termini  del  presente  contratto  e  sarà  soggetto  a  tutte  le conseguenze legali del caso. Il Committente potrà utilizzare il software esclusivamente per le proprie attività interne e solo per il settore specificato, senza possibilità di estendere tale utilizzo a terzi o ad altri settori,  salvo  previo  accordo  scritto  tra  le  parti. EcoTech,  d'altro  canto,  continuerà  a mantenere piena libertà di commercializzare, adattare e vendere il software in altri ambiti, garantendo al Committente l'esclusività solo nel contesto concordato. ## 5.3. Responsabilità\n",
      "\n",
      "Le attività previste nella presente offerta saranno svolte nel pieno rispetto delle modalità, delle  specifiche  funzionali  e  tecniche  fornite  dal  personale  interno  del  Committente  e conformemente agli standard di sviluppo e di documentazione in uso. EcoTech svolgerà le attività utilizzando gli standard professionali normalmente esercitati da professionisti nella realizzazione di servizi confrontabili a parità di contenuto e condizioni. EcoTech si ispira a principi di legalità, lealtà ed efficacia nei propri rapporti con Clienti e Fornitori  e  chiede  al  proprio  personale  di  osservare  tali  principi  nello  svolgimento  del proprio operato. Gli specialisti EcoTech sono tenuti ad avere cura delle proprietà del Committente con cui vengano in contatto, sia materiali sia intellettive, e a salvaguardare le stesse. Ad eccezione dei casi di colpa grave o dolo, EcoTech non sarà riconosciuta responsabile per qualunque danno, materiale o immateriale, diretto o indiretto, venga provocato dal proprio personale nell'ambito delle prestazioni professionali descritte nella presente offerta. Il Committente si impegna a sollevare EcoTech da qualunque coinvolgimento nei confronti di richieste di danni, diretti o indiretti, materiali o immateriali, spese, reclami, mancanze o quant'altro formulati da terzi nei confronti del Committente. EcoTech  si  impegna  a  rispettare  gli  standard  di  sicurezza  in  uso  presso  il  Committente nonché a valutare congiuntamente con il Committente se esistano le circostanze per ritenere esistenti rischi di natura interferenziale per attività da svolgersi presso l e sedi di questi a mente del d.lgs.81/08 e a provvedere di conseguenza. Ai sensi e per gli effetti di cui all'art.\n",
      "\n",
      "\n",
      "Chunk 12:\n",
      "26, comma 3, del D.Lgs 81/2008, ferme restando le obbligazioni di cui all'articolo 26, commi 1 e 2, del D.Lgs. 81/2008, le Parti si danno reciprocamente atto che il Progetto che sarà svolto in forza del presente Contratto è di 'natura intellettuale'. ## 5.4. Indipendenza del Fornitore\n",
      "\n",
      "Gli specialisti EcoTech che interverranno sul progetto forniranno le prestazioni richieste al di fuori di ogni vincolo del rapporto di lavoro subordinato, quindi senza obbligo di presenza, di  orario,  di  gerarchia  nei  confronti  del  Committente. Ogni  attività  di  verifica  e  controllo svolta dal Committente a mente dell'art. 3.1 dovrà conformarsi alla riconosciuta autonomia di mezzi ed organizzazione di EcoTech nell'esecuzione contrattuale. EcoTech  resta  libera  di  determinare  autonomamente  quali  dei  suoi  dipendenti  e/o collaboratori  saranno  incaricati  di  eseguire  il  Progetto,  e  di  sostituire  o  riassegnare  tali dipendenti durante l'esecuzione del Contratto, premesso comunque che, subordinatame nte alle proprie necessità operative ed entro i limiti consentiti dalla legge applicabile, EcoTech cercherà di venire incontro a espresse richieste del Committente di assegnazione di specifici dipendenti. ## 5.5. Divieto di Distrazione del Personale\n",
      "\n",
      "Fatta  salva  l'espressa,  preventiva  autorizzazione  scritta  di  EcoTech,  il  Committente  non presenterà, né direttamente né indirettamente, offerte di lavoro o di impiego, né assumerà o stipulerà contratti in qualità di socio o lavoratore dipendente o autonomo con alcuno del personale  di  EcoTech,  sia  durante  la  partecipazione  all'esecuzione  del  Progetto,  sia  nei diciotto (18) mesi immediatamente successivi e tanto per personale che alla data dell'offerta sia  ancora alle dipendenze ovvero in rapporti con EcoTech quanto per personale che nel frattempo sia stato impiegato presso terzi. Con il termine «Personale» si intendono individui che  EcoTech  abbia  come  lavoratore  dipendente  o  con  i  quali  sia  comunque  in  relazioni contrattuali, con i quali il Committente sia entrato in contatto nel corso dell'esecuzione del Progetto. In caso di violazione, il Committente rimborserà a EcoTech un ammontare pari al maggiore importo tra un anno di retribuzione: (a) offerto al Personale dal Committente; o (b) pagato o offerto al Personale da EcoTech. Nonostante quanto sopra, le disposizioni del presente  articolo  si  applicheranno  anche  al  caso  in  cui  il  Personale  risponda  a  offerte indirette (per esempio tramite annunci generici anche su piattaforme digitali, head hunters, etc.) non specificamente indirizzate al Personale. ## 5.6. Collaborazioni Esterne\n",
      "\n",
      "EcoTech ha la facoltà di avvalersi per la realizzazione dell'intervento, in tutto o in parte, di terzi professionisti o di società esterne. EcoTech  garantisce  in  ogni  caso  il  rispetto  delle  condizioni  di  fornitura  e  delle  clausole contenute nell'offerta. ## 5.7. Referenziabilità\n",
      "\n",
      "EcoTech  potrà  citare  pubblicamente  il  Committente  utilizzandone  il  logo  nel  proprio portfolio clienti. Nel rispetto delle clausole di riservatezza riportate sopra, EcoTech potrà citare pubblicamente l'attività oggetto della presente offerta tra le proprie referenze. ## 5.8. Varie\n",
      "\n",
      "- ● La Proposta sottoscritta per accettazione costituisce il solo ed integrale accordo tra le Parti,  e  sostituisce  qualsiasi  precedente  accordo  o  contratto  o  comunicazione,  scritti  o verbali,  relativamente  all'oggetto  del  Contratto. Qualsiasi  ordine  d'acquis to  emesso  dal Cliente si intenderà valido ai soli fini interni amministrativi del Cliente stesso, e nessuna delle sue  condizioni  si  applicherà  a  EcoTech. La  Proposta,  salvo  quanto  diversamente  in  esso stabilito,  costituirà  la  descrizione  completa  dell'oggetto  di  tale  Proposta,  ed  integrerà  i termini e le condizioni di esecuzione ai soli fini della realizzazione dell'oggetto di questa. Nessun altro accordo, affidamento, comunicazione, garanzia, scritti o verbali, vincolerà le Parti  relativamente  all'oggetto  della  Proposta. Il  Committente  dà  atto  di  aver  accettato esclusivamente sulla base delle condizioni e informazioni qui contenute, in proprio e non per conto di terzi. - ● La Proposta potrà  essere  modificata  solo  con  il  consenso  scritto  di  entrambe  le  Parti indicando espressamente la clausola della Proposta che viene modificata. Nessuna clausola potrà considerarsi decaduta o fatta oggetto di rinuncia se non con il consenso scritto della Parte nei confronti della quale tale decadenza o rinuncia è invocata. - ● Qualsiasi ritardo o mancanza di una Parte nell'esercizio dei diritti derivanti a tale Parte dal contratto non potrà essere interpretato come una rinuncia a tali diritti, né l'esercizio parziale di un diritto potrà precludere in futuro l'esercizio integrale del diritto di tale Parte. - ●  Qualsiasi  azione  promossa,  escluse  quelle  dirette  ad ottenere il pagamento  dei corrispettivi, dovrà essere iniziata, a pena di decadenza, entro 2 (due) anni dal verificarsi del fatto dal quale essa trae origine. - ● Salvo che per gli obblighi di pagamento dei corrispettivi di cui alla presente Proposta nessuna delle Parti sarà ritenuta in alcun modo responsabile nei confronti dell'altra parte per  inadempimenti  o  ritardi  nell'adempimento  delle  obbligazioni  di  cui  alla  presente Proposta, che siano dovuti a circostanze al di fuori del proprio controllo, ivi inclusi, calamità naturali, guerra, atti terroristici, incidenti, scioperi, atti, omissioni e errori di terzi, nonché azioni  ufficiali,  governative  e  giudiziarie,  che  non  siano  causati  da  colpa  della  parte inadempiente o in ritardo nell'adempimento, ovvero anche in caso di minaccia di una delle circostanze che precedono. ## 5.9. Dati personali e GDPR\n",
      "\n",
      "Le Parti, ai sensi della normativa in materia di protezione dei dati personali, dichiarano di procedere al trattamento dei dati personali per le finalità inerenti all'esecuzione del presente contratto  e  all'adempimento  degli  obblighi  legali  e  contrattuali  dallo  stesso  derivanti. Le Parti si impegnano, nell'esecuzione del presente contratto e di tutte le attività connesse che possano  comportare  il  trattamento  dei  dati  personali,  ad  agire  in  conformità  con  la Normativa  in  materia  di  protezione  dei  dati  personali  applicabile  (in  particolare  il Regolamento  UE  2016/679  c.d. 'GDPR'),  osservando  misure  organizzative  e  tecniche adeguate,  nonché  idonee  a  garantire  la  sicurezza  delle  informazioni  sotto  l'aspetto  della riservatezza,  disponibilità  e  confidenzialità  dei  dati  personali  trattati. Salvo  che  non  sia specificamente indicato nella scheda di progetto, l'esecuzione del contratto non comporta il trattamento di dati personali cioè di informazioni relative ad una persona fisica. ## 5.10. Legge applicabile - Foro competente\n",
      "\n",
      "Il Contratto sarà regolato dalla legge italiana. Ogni  controversia  relativa  alla  stipulazione,  interpretazione,  esecuzione  e  cessazione  del Contratto sarà rimessa alla competenza esclusiva del Foro di Milano. La presente Proposta una volta accettata non corrisponderà ad alcun formulario e/o testo di condizioni generali predisposto da una delle Parti. La stessa risulterà negoziata fra le Parti e sostituisce ogni altro accordo scritto e/o verbale intercorso fra le Parti. Per integrale accettazione della presente offerta\n",
      "\n",
      "Il Committente\n",
      "\n",
      "Data \\_\\_\\_\\_\\_\\_\\_\\_\\_\\_\\_\\_\\_\\_\\_\\_\\_\\_\\_\\_\\_\\_\\_\\_\\_\\_\\_\\_\\_\\_\\_\\_\\_\\_\\_\\_\\_\\_\n",
      "\n",
      "\n"
     ]
    }
   ],
   "source": [
    "for i in range(len(docs)):\n",
    "    print(f\"Chunk {i}:\")\n",
    "    print(docs[i].page_content)\n",
    "    print(\"\\n\")"
   ]
  },
  {
   "cell_type": "code",
   "execution_count": 23,
   "id": "4c64efcb",
   "metadata": {},
   "outputs": [
    {
     "name": "stdout",
     "output_type": "stream",
     "text": [
      "Generated vectors of length 768\n",
      "\n",
      "[-0.0002695955627132207, -0.038559719920158386, -0.029546771198511124, 0.030805233865976334, 0.013794153928756714, -0.022652002051472664, 0.010477310046553612, 0.0369323268532753, 0.027143115177750587, 0.003042216645553708]\n"
     ]
    }
   ],
   "source": [
    "from langchain_huggingface import HuggingFaceEmbeddings\n",
    "\n",
    "embeddings = HuggingFaceEmbeddings(model_name=\"sentence-transformers/all-mpnet-base-v2\")\n",
    "\n",
    "\n",
    "vector_1 = embeddings.embed_query(docs[0].page_content)\n",
    "vector_2 = embeddings.embed_query(docs[1].page_content)\n",
    "\n",
    "assert len(vector_1) == len(vector_2)\n",
    "print(f\"Generated vectors of length {len(vector_1)}\\n\")\n",
    "print(vector_1[:10])\n",
    "\n",
    "\n",
    "from langchain_core.vectorstores import InMemoryVectorStore\n",
    "\n",
    "vector_store = InMemoryVectorStore(embeddings)\n",
    "\n",
    "\n",
    "ids = vector_store.add_documents(documents=docs)"
   ]
  },
  {
   "cell_type": "code",
   "execution_count": 24,
   "id": "677a32fa",
   "metadata": {},
   "outputs": [
    {
     "name": "stdout",
     "output_type": "stream",
     "text": [
      "page_content='## 4.3. Assistenza e Manutenzione\n",
      "\n",
      "EcoTech  fornirà  un  servizio  di  assistenza  e  manutenzione  incluso  nel  progetto  per  un periodo di 180 giorni a partire dall'ultimo rilascio del software (D3). Durante questo periodo, il servizio coprirà la risoluzione di bug e la realizzazione di modifiche minori, che verranno concordate tra EcoTech e il Committente. Successivamente ai 180 giorni, il servizio di assistenza e manutenzione sarà disponibile al costo  di  €  6.000  annui,  IVA  esclusa. Il  pagamento  sarà  suddiviso  in  due  rate  da  €  3.000 ciascuna, da effettuare ogni sei mesi dalla sottoscrizione. L'assistenza comprende la risoluzione di bug e l'implementazione di modifiche minori, che verranno  concordate  tra  EcoTech  e  il  Committente  prima  di  essere  eseguite. Eventuali interventi  che superano l'ambito di assistenza e manutenzione standard saranno qu otati separatamente e concordati con il Committente. Il pagamento del servizio di assistenza e manutenzione, successivo ai 180 giorni incluso, sarà fatturato ogni sei mesi, con le condizioni sopra specificate. Eventuali costi aggiuntivi saranno concordati e fatturati separatamente.'\n"
     ]
    }
   ],
   "source": [
    "results = vector_store.similarity_search(\n",
    "    \"informazioni generali sul servizio di assistenza clienti\",\n",
    ")\n",
    "\n",
    "print(results[0])"
   ]
  },
  {
   "cell_type": "code",
   "execution_count": 1,
   "id": "c4c036a6",
   "metadata": {},
   "outputs": [
    {
     "name": "stdout",
     "output_type": "stream",
     "text": [
      "hello\n"
     ]
    }
   ],
   "source": [
    "print(\"hello\")"
   ]
  }
 ],
 "metadata": {
  "kernelspec": {
   "display_name": "docling_env",
   "language": "python",
   "name": "python3"
  },
  "language_info": {
   "codemirror_mode": {
    "name": "ipython",
    "version": 3
   },
   "file_extension": ".py",
   "mimetype": "text/x-python",
   "name": "python",
   "nbconvert_exporter": "python",
   "pygments_lexer": "ipython3",
   "version": "3.12.11"
  }
 },
 "nbformat": 4,
 "nbformat_minor": 5
}