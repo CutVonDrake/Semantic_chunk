{
  "cells": [
    {
      "cell_type": "markdown",
      "metadata": {
        "id": "DIQEu5MD7uid"
      },
      "source": [
        "###Primo Step: Docling"
      ]
    },
    {
      "cell_type": "code",
      "execution_count": null,
      "metadata": {
        "colab": {
          "base_uri": "https://localhost:8080/"
        },
        "collapsed": true,
        "id": "m2P3YIYMSQoJ",
        "outputId": "da1a1a03-fc97-4439-f088-f2db26d439bb"
      },
      "outputs": [],
      "source": [
        "!pip install docling"
      ]
    },
    {
      "cell_type": "code",
      "execution_count": 2,
      "metadata": {
        "colab": {
          "base_uri": "https://localhost:8080/"
        },
        "id": "ju37zonsPZVl",
        "outputId": "dcd2e529-89ed-4fda-aa42-436f3b3e1394"
      },
      "outputs": [
        {
          "name": "stderr",
          "output_type": "stream",
          "text": [
            "/storage/data_4T_b/andreacutuli/miniconda3/envs/retrievers/lib/python3.13/site-packages/tqdm/auto.py:21: TqdmWarning: IProgress not found. Please update jupyter and ipywidgets. See https://ipywidgets.readthedocs.io/en/stable/user_install.html\n",
            "  from .autonotebook import tqdm as notebook_tqdm\n"
          ]
        },
        {
          "name": "stdout",
          "output_type": "stream",
          "text": [
            "## EcoTech Solutions S.r.l.\n",
            "\n",
            "per GreenLife S.p.A. Via dell'Innovazione 42, 20121 Milano (MI), Italia\n",
            "\n",
            "Soluzioni di Intelligenza Artificiale per l'Ottimizzazione del Processo di Riciclo Industriale\n",
            "\n",
            "Implementazione di Sistemi AI per l'Analisi dei Materiali e l'Efficienza Energetica\n",
            "\n",
            "## Proposta contrattuale\n",
            "\n",
            "Versione: 1.3 Validità: 60 giorni\n",
            "\n",
            "Destinatario: Marco Bianchi m.bianchi@greenlifespa.eu Laura Verdi l.verdi@greenlifespa.eu Andrea Rossi a.rossi@greenlifespa.eu\n",
            "\n",
            "Redatta da: Dott.ssa Elena Marino elena.marino@ecotech.srl\n",
            "\n",
            "Revisionata da: Prof. Paolo Ferretti ferretti@polimi.it\n",
            "\n",
            "Per EcoTech Solutions S.r.l.\n",
            "\n",
            "Per GreenLife S.p.A.\n",
            "\n",
            "## 1. Introduzione\n",
            "\n",
            "## 1.1. Scopo del Documento\n",
            "\n",
            "Scopo del presente documento è descrivere la proposta contrattuale di EcoTech Solutions S.r.l. (in seguito EcoTech) verso GreenLife S.p.A. (in seguito GreenLife oppure Committente), per la realizzazione del progetto:\n",
            "\n",
            "## Soluzioni  di  Intelligenza  Artificiale  per  l'Ottimizzazione  del  Processo  di  Riciclo Industriale\n",
            "\n",
            "La proposta nasce dall'esigenza di GreenLife di integrare soluzioni avanzate di intelligenza artificiale  per  migliorare  l'efficienza  e  la  sostenibilità  del  proprio  processo  di  riciclo industriale  e  produzione  di  packaging  ecosostenibile.  In  particolare,  il  progetto  mira  a sviluppare e implementare sistemi di analisi automatica dei materiali riciclabili, ottimizzazione  dei  processi  di  smistamento  e  monitoraggio  dell'efficienza  energetica,  in modo  da  massimizzare  il  recupero  di  materiali  e  ridurre  l'impatto  ambientale  delle operazioni.\n",
            "\n",
            "Per la formulazione dell'offerta, EcoTech ha considerato le interazioni avvenute tra i propri rappresentanti, Elena Marino, Davide Ricci e Sofia Conti, e il personale di GreenLife. Questo documento descrive i dettagli  tecnici  e  operativi  del  progetto,  includendo  tempi,  costi,  e modalità di esecuzione, con l'obiettivo di fornire una soluzione su misura per le esigenze specifiche del Committente.\n",
            "\n",
            "## 1.2. Obiettivi del Progetto\n",
            "\n",
            "Il progetto 'Soluzioni di Intelligenza Artificiale per l'Ottimizzazione del Processo di Riciclo Industriale' ha come obiettivo principale l'integrazione di tecnologie avanzate di intelligenza artificiale per migliorare l'efficacia e l'efficienza delle operazioni di riciclo e produzione di GreenLife S.p.A. Gli obiettivi specifici del progetto includono:\n",
            "\n",
            "- 1. Automatizzazione dell'Analisi dei Materiali Riciclabili.\n",
            "- 2. Ottimizzazione dei Processi di Smistamento.\n",
            "- 3. Monitoraggio dell'Efficienza Energetica dei Macchinari.\n",
            "\n",
            "## 1.3. Validità\n",
            "\n",
            "La presente offerta è valida 60gg. a decorrere dalla data dell'offerta.\n",
            "\n",
            "## 2. Specifiche di Progetto\n",
            "\n",
            "## 2.1. Descrizione dell'Intervento\n",
            "\n",
            "L'oggetto della presente offerta è relativo alla fornitura di un sistema basato su intelligenza artificiale  per  l'automatizzazione  dell'analisi  dei  materiali  riciclabili,  l'ottimizzazione  dei processi  di  smistamento  e  il  monitoraggio  dell'efficienza  energetica  nel  contesto  del processo di riciclo industriale.\n",
            "\n",
            "EcoTech fornirà il proprio servizio di consulenza per indirizzare l'attività di sviluppo con l'obiettivo specifico di:\n",
            "\n",
            "- ●  Investigare  lo  Stato  dell'Arte  e  individuare  le  migliori  soluzioni  disponibili  per  il riconoscimento  automatico  dei  materiali,  l'ottimizzazione  dei  processi  e  il  monitoraggio energetico.\n",
            "- ● Definire,  insieme  al  personale  di  GreenLife,  i  requisiti  funzionali  e  non  funzionali  del sistema,  inclusi  i  dettagli  sugli  input  e  output  attesi,  per  garantire  che  tutte  le  soluzioni implementate rispondano pienamente alle esigenze del Committente.\n",
            "- ● Implementare e testare un sistema di analisi automatica dei materiali con funzionalità avanzate come il preprocessing delle immagini e la classificazione dei contaminanti.\n",
            "- ● Sviluppare un modulo di ottimizzazione dei processi per massimizzare l'efficienza del sistema di smistamento, riducendo gli scarti e migliorando la qualità del prodotto finale.\n",
            "- ● Implementare un sistema di monitoraggio energetico per tenere traccia dei consumi e identificare opportunità di risparmio energetico.\n",
            "\n",
            "L'intervento può essere suddiviso nelle 3 seguenti Attività:\n",
            "\n",
            "- 1. Attività 1: Sviluppo del Sistema di Analisi dei Materiali.\n",
            "- 2. Attività 2: Sviluppo del Modulo di Ottimizzazione dei Processi.\n",
            "- 3. Attività 3: Implementazione del Sistema di Monitoraggio Energetico.\n",
            "\n",
            "EcoTech nelle attività di consulenza e progettuali sopra descritte metterà in campo un team composto dalle seguenti tipologie di figure professionali:\n",
            "\n",
            "| Nome                       | Descrizione figura professionale                                                 |\n",
            "|----------------------------|----------------------------------------------------------------------------------|\n",
            "| 1 Master AI Engineer       | 10+ anni di esperienza lavorativa e di ricerca nello sviluppo di soluzioni di AI |\n",
            "| 1 Senior AI developer + PM | 5+ anni di esperienza lavorativa nello sviluppo di soluzioni di AI applicate     |\n",
            "| 2+ Expert AI developer     | 2+ anni di esperienza lavorativa nello sviluppo di soluzione di AI applicate     |\n",
            "\n",
            "## 2.2. Descrizione delle Attività\n",
            "\n",
            "## 2.2.1. Attività 1: Sviluppo del Sistema di Analisi dei Materiali\n",
            "\n",
            "Questa  attività  è  dedicata  allo  sviluppo  e  all'implementazione  di  un  sistema  di  analisi automatica  dei  materiali,  finalizzato  a  identificare  e  classificare  i  materiali  riciclabili  in ingresso.  L'obiettivo  è  automatizzare  il  processo  di  analisi  dei  materiali,  migliorando  la qualità delle classificazioni attraverso tecniche avanzate di preprocessing delle immagini, riconoscimento dei materiali e implementazione di alert per contaminanti.\n",
            "\n",
            "L'Attività 1 è composta dai seguenti Work Packages (WP):\n",
            "\n",
            "## WP 1.1: Sviluppo e Implementazione del Sistema di Riconoscimento\n",
            "\n",
            "- ● Descrizione : Ricerca delle migliori tecniche disponibili per il riconoscimento automatico dei materiali, quindi sviluppo del sistema di analisi automatica, con l'obiettivo di raggiungere un'accuratezza minima del 95% nella classificazione dei materiali. È importante notare che il raggiungimento di questo target di accuracy sarà un obiettivo realistico solo se il sistema sarà applicato a materiali sufficientemente puliti e ben separati.\n",
            "- ● Assumptions : Fornitura  di  campioni  di  materiali  da  parte  del  Committente  per l'eventuale training, test e validazione del sistema; supporto tecnico continuo del Committente.\n",
            "- ● Deliverables (D1) :  ○ Sistema di riconoscimento automatico con target di accuracy del 95%  (soggetto  alla  qualità  dei  campioni  forniti).  ○  Documentazione  tecnica  e  report prestazioni.\n",
            "\n",
            "## WP 1.2: Preprocessing: Calibrazione dei Sensori Ottici\n",
            "\n",
            "- ● Descrizione : Implementazione  di  un  modulo  per  la  calibrazione  dei  sensori  ottici, migliorando la qualità delle immagini per un riconoscimento più accurato.\n",
            "- ● Assumptions :  Accesso  ai  sensori  ottici  esistenti  con  vari  livelli  di  illuminazione  per l'eventuale addestramento e la validazione del modulo.\n",
            "- ● Deliverables (D1) : ○ Modulo di calibrazione dei sensori ottici. ○ Documentazione tecnica e report prestazioni.\n",
            "\n",
            "## WP 1.3: Categorizzazione dei Materiali e Alert per Contaminanti\n",
            "\n",
            "- ● Descrizione : Sviluppo e integrazione di un modulo per la categorizzazione dettagliata dei materiali e implementazione  di un sistema di alert per contaminanti definiti dal Committente.\n",
            "- ● Assumptions : Definizione chiara delle categorie di materiali e dei contaminanti da parte del Committente.\n",
            "- ● Deliverables (D1) : ○ Modulo per la categorizzazione dei materiali. ○ Sistema di alert per contaminanti. ○ Documentazione tecnica e report prestazioni.\n",
            "\n",
            "## 2.2.2. Attività 2: Sviluppo del Modulo di Ottimizzazione dei Processi\n",
            "\n",
            "Questa attività è dedicata allo sviluppo e all'implementazione di un modulo di intelligenza artificiale  in  grado  di  ottimizzare  i  processi  di  smistamento  e  di  prevedere  la  qualità del prodotto  finale. L'obiettivo è massimizzare  l'efficienza del sistema di smistamento, riducendo gli scarti e migliorando la qualità del prodotto finale.\n",
            "\n",
            "L'Attività 2 è composta dai seguenti Work Packages (WP):\n",
            "\n",
            "## WP 2.1: Sviluppo e Implementazione del Modulo di Ottimizzazione\n",
            "\n",
            "- ● Descrizione :  Ricerca approfondita sulle tecniche più avanzate per l'ottimizzazione dei processi industriali, con focus su soluzioni che siano particolarmente efficaci in un contesto di  riciclo.  A  seguito  di  questa  analisi,  sviluppo  e  implementazione  di  un  modulo  di ottimizzazione in grado di migliorare l'efficienza del sistema di smistamento, identificando i parametri ottimali per massimizzare il recupero di materiali e ridurre gli scarti.\n",
            "- ● Assumptions : Fornitura  di  dati  storici  sui  processi  e  relativi  risultati  da  parte  del Committente per il training e la validazione del modulo; supporto continuo del Committente.\n",
            "- ● Deliverables (D2) : ○ Modulo di ottimizzazione dei processi. ○ Documentazione tecnica e report prestazioni.\n",
            "\n",
            "## WP 2.2: Sviluppo e Implementazione del Modulo di Previsione\n",
            "\n",
            "- ● Descrizione : Ricerca delle tecniche disponibili per la previsione della qualità del prodotto finale. Sviluppo e implementazione di un modulo che possa prevedere la qualità del prodotto finale in base ai parametri di processo e alle caratteristiche dei materiali in ingresso.\n",
            "- ● Assumptions : Fornitura di un dataset di prodotti finali e della loro qualità da parte del Committente per il training e la validazione del modulo; supporto continuo del Committente nella definizione dei criteri di qualità.\n",
            "- ● Deliverables (D2) :  ○  Modulo di previsione della qualità. ○ Documentazione tecnica e report prestazioni.\n",
            "\n",
            "## 2.2.3. Attività 3: Implementazione del Sistema di Monitoraggio Energetico\n",
            "\n",
            "Questa  attività  si  concentra  sullo  sviluppo  e  l'integrazione  di  un  sistema  di  intelligenza artificiale per  il monitoraggio  energetico  dei  macchinari.  L'obiettivo  è  monitorare  e ottimizzare  i  consumi  energetici,  identificando  opportunità  di  risparmio  e  migliorando l'efficienza complessiva del processo.\n",
            "\n",
            "L'Attività 3 è composta dai seguenti Work Packages (WP):\n",
            "\n",
            "## WP 3.1: Investigazione dello Stato dell'Arte\n",
            "\n",
            "- ● Descrizione :  Ricerca  e  analisi  delle  migliori  soluzioni  disponibili  per  il  monitoraggio energetico  nei  processi  industriali.  Particolare  attenzione  sarà  data  agli  algoritmi  di intelligenza artificiale che possono essere applicati per identificare pattern di consumo e opportunità di ottimizzazione.\n",
            "- ● Assumptions :  Accesso a risorse tecnologiche e pubblicazioni scientifiche; supporto del Committente nella definizione dei requisiti specifici per il monitoraggio energetico.\n",
            "- ● Deliverables  (D3) : ○  Report  sulle  soluzioni  all'avanguardia  per  il  monitoraggio energetico nei processi industriali.\n",
            "\n",
            "## WP 3.2: Sviluppo e Implementazione del Modulo di Monitoraggio Energetico\n",
            "\n",
            "- ● Descrizione : Sviluppo e implementazione del modulo di monitoraggio energetico, capace di tracciare i consumi dei macchinari e identificare opportunità di risparmio.\n",
            "- ● Assumptions : Fornitura di dati storici sui consumi energetici da parte del Committente per il training e la validazione del modulo; supporto continuo del Committente.\n",
            "- ● Deliverables (D3) : ○ Modulo di monitoraggio energetico implementato. ○ Documentazione tecnica e report prestazioni.\n",
            "\n",
            "## 2.3. Testing, Validazione e Rilascio dei Moduli\n",
            "\n",
            "Pur  non  essendo  dettagliati  come  Work  Packages  separati,  tutti  i  moduli  e  gli  algoritmi sviluppati nell'ambito di questo progetto saranno sottoposti a rigorosi processi di testing e validazione.  Questi  processi  garantiranno  che  le  soluzioni  rilasciate  siano  conformi  ai requisiti specificati e che soddisfino gli standard di qualità attesi dal Committente. Il testing e  la  validazione  includeranno  l'analisi  delle  performance,  la  verifica  dell'accuratezza  e  la robustezza dei moduli, nonché la loro efficienza in ambienti operativi reali.\n",
            "\n",
            "Inoltre,  tutte  le  soluzioni  rilasciate  saranno  distribuite  come  micro-servizi  all'interno  di immagini  Docker.  Questo  approccio  garantirà  una  maggiore  flessibilità  e  facilità  di integrazione  delle  soluzioni  nel  sistema  esistente  del  Committente.  Ogni  micro-servizio esporrà delle chiamate REST-API, progettate per essere facilmente interrogabili e integrabili, consentendo  al  Committente  di  accedere  e  utilizzare  le  funzionalità  dei  moduli  in  modo semplice ed efficiente. Questa architettura modulare permetterà anche una manutenzione più agevole e un'eventuale espansione futura delle soluzioni.\n",
            "\n",
            "Le soluzioni sviluppate saranno rilasciate e installate, attraverso le modalità sopra-descritte, on-premise presso i server del Committente. Questo implica che l'infrastruttura hardware e le  risorse  di  calcolo  necessarie  per  garantire  le  performance  desiderate  dovranno  essere fornite e gestite dal Committente stesso.\n",
            "\n",
            "## 2.4. Considerazioni sui Tempi Computazionali\n",
            "\n",
            "Data la natura sperimentale del progetto e il numero di modelli di intelligenza artificiale coinvolti, non è possibile garantire a priori il processamento di 10 tonnellate di materiali entro 8 ore. Le performance computazionali dipenderanno significativamente dall'hardware su  cui  le  soluzioni  verranno  eseguite,  un  fattore  che  gioca  un  ruolo  cruciale  e  che  non  è attualmente noto.\n",
            "\n",
            "## 2.5. Out of Scope\n",
            "\n",
            "Sono escluse dagli interventi previsti attività quali: ● interventi non previsti specificatamente nella presente offerta.\n",
            "\n",
            "Il servizio reso è da intendersi quale prestazione di mezzi, esso non garantisce in alcun modo che le previsioni di accadimento si realizzino perfettamente nei termini ipotizzati mediante la modellazione matematica che ne costituisce parte integrante. Il servizio è da intendersi quale miglior apporto di competenza e professionalità che EcoTech può rendere al proprio Cliente per mitigare e ridurre, per quanto nelle sue conoscenze, il livello di incertezza degli accadimenti  futuri  per  la previsione  dei  quali è stato richiesto il Servizio offerto. Conseguentemente  EcoTech  non  risponde  di  nessun  danno  che  non  sia  direttamente imputabile alla propria esclusiva organizzazione di mezzi e risorse per l'esecuzione della propria prestazione per come sopra descritta.\n",
            "\n",
            "## 3. Organizzazione del Progetto\n",
            "\n",
            "## 3.1. Risorse e Planning\n",
            "\n",
            "Sulla base della configurazione descritta, la durata prevista del progetto è di circa 6 mesi, a partire dalla Riunione di avvio progetto debitamente descritta nel Paragrafo 3.2. Controllo e Gestione.\n",
            "\n",
            "Le  attività  operative  saranno  gestite  attraverso  una  modalità  di  lavoro  basata  sulla metodologia AGILE con sprint bisettimanali. Sarà prevista una riunione ogni due settimane di circa 1 ora, che si terrà da remoto in un giorno della settimana da concordare tra le parti, per  la  revisione  di  quanto  sviluppato  e  la  pianificazione  delle  attività  da  eseguire  nei successivi sprint.\n",
            "\n",
            "Lo sviluppo verrà realizzato sfruttando l'infrastruttura di calcolo (es. virtual machine) di EcoTech ed il codice verrà storicizzato in un apposito repository (GIT). Il codice e i modelli realizzati verranno poi messi a disposizione del Committente per il deployment sulla propria infrastruttura.\n",
            "\n",
            "Sarà cura e responsabilità del Committente governare gli avanzamenti delle attività in carico ai gruppi di lavoro interni e garantire assumptions e tempistiche.\n",
            "\n",
            "EcoTech si impegna nel dare avvio alle attività entro 2 settimane dalla sottoscrizione del contratto o dalla ricezione dell'accettazione della presente proposta contrattuale da parte del Committente.\n",
            "\n",
            "Il Progetto è organizzato secondo il GANTT riportato in Tabella 1.\n",
            "\n",
            "<!-- image -->\n",
            "\n",
            "|   WPs | Mese 1   | Mese 2   | Mese 3   | Mese 4   | Mese 5   | Mese 6   |\n",
            "|-------|----------|----------|----------|----------|----------|----------|\n",
            "|   1.1 | ████ █   | ████ █   |          |          |          |          |\n",
            "|   1.2 |          | ████     | ████     |          |          |          |\n",
            "|   1.3 |          |          | ████     | ████     |          |          |\n",
            "|   2.1 |          |          |          | ████ █   | ████     |          |\n",
            "|   2.2 |          |          |          |          | ████     | ████     |\n",
            "|   3.1 |          |          |          |          | ████     |          |\n",
            "\n",
            "█\n",
            "\n",
            "3.2\n",
            "\n",
            "Tabella 1. GANTT.\n",
            "\n",
            "D1\n",
            "\n",
            "D2\n",
            "\n",
            "████\n",
            "\n",
            "█\n",
            "\n",
            "D3\n",
            "\n",
            "## 3.2. Controllo e Gestione\n",
            "\n",
            "Il  controllo  di  progetto  sarà  attuato  attraverso  una  serie  di  incontri  fra  le  parti,  così strutturati:\n",
            "\n",
            "- ● Riunione di avvio progetto Questa riunione permette la revisione e definizione degli scopi  delle  attività  del  progetto,  la  pianificazione  di  dettaglio  del  lavoro,  i  contenuti,  la formalizzazione dell'organizzazione di progetto.\n",
            "\n",
            "Nella riunione di avvio progetto verranno identificati due Responsabili di Progetto, uno per EcoTech (il Project Manager) e uno per il Committente, che insieme garantiranno il controllo delle attività e concorderanno ogni possibile azione di miglioramento per convergere verso gli obiettivi.\n",
            "\n",
            "- ● Riunione di avanzamento progetto e pianificazione risorse Riunioni periodiche che consentono  di  validare  gli  stati  di  avanzamento  del  progetto,  confermare  le  specifiche progettuali rispetto alle condizioni iniziali, apportare eventuali modifiche all'organizzazione di progetto e di pianificare il coinvolgimento delle risorse EcoTech.\n",
            "\n",
            "In qualsiasi momento può essere convocato un 'ad hoc meeting' su richiesta di qualsiasi figura coinvolta nel progetto al fine di chiarire una specifica situazione.\n",
            "\n",
            "## 4. Offerta Economica\n",
            "\n",
            "## 4.1. Valore Economico dell'Intervento\n",
            "\n",
            "Sulla base della soluzione proposta, si stima un valore complessivo di:\n",
            "\n",
            "## 65.000 € (sessantacinquemila euro)\n",
            "\n",
            "Tale valorizzazione è stimata considerando la seguente Tabella 2.\n",
            "\n",
            "|   Attività | Costo [€]   |\n",
            "|------------|-------------|\n",
            "|          1 | 25.000 €    |\n",
            "|          2 | 20.000 €    |\n",
            "\n",
            "3\n",
            "\n",
            "20.000 €\n",
            "\n",
            "Tabella 2. Costo per Attività.\n",
            "\n",
            "L'offerta economica complessiva include:\n",
            "\n",
            "- ● le prestazioni erogate dagli specialisti EcoTech;\n",
            "- ● coordinamento gestionale del progetto.\n",
            "\n",
            "I valori sopra riportati sono da intendersi IVA esclusa.\n",
            "\n",
            "## 4.2. Condizioni di Fatturazione\n",
            "\n",
            "La fatturazione avverrà secondo le seguenti modalità:\n",
            "\n",
            "- ● Emissione fattura da 20.000 € alla sottoscrizione del contratto.\n",
            "- ● Emissione fattura da 15.000 € a completamento del D1.\n",
            "- ● Emissione fattura da 15.000 € a completamento del D2.\n",
            "- ● Emissione fattura da 15.000 € a completamento del D3.\n",
            "\n",
            "Il pagamento delle fatture avverrà in ogni caso a 30 giorni dalla data di fatturazione, in difetto si applicheranno gli interessi moratori per transazioni commerciali previsti dalla normativa italiana (Decreto Legislativo 09 ottobre 2002 n. 231 e ss.mm.ii). La decorrenza del termine previsto  per  il  pagamento  delle  fatture  darà  facoltà  a  EcoTech  di  risolvere  di  diritto  il contratto ai sensi dell'art. 1456 c.c..\n",
            "\n",
            "Eventuali modifiche alle condizioni di pagamento devono essere concordate dalle parti per iscritto.\n",
            "\n",
            "## 4.3. Assistenza e Manutenzione\n",
            "\n",
            "EcoTech  fornirà  un  servizio  di  assistenza  e  manutenzione  incluso  nel  progetto  per  un periodo di 180 giorni a partire dall'ultimo rilascio del software (D3). Durante questo periodo, il servizio coprirà la risoluzione di bug e la realizzazione di modifiche minori, che verranno concordate tra EcoTech e il Committente.\n",
            "\n",
            "Successivamente ai 180 giorni, il servizio di assistenza e manutenzione sarà disponibile al costo  di  €  6.000  annui,  IVA  esclusa.  Il  pagamento  sarà  suddiviso  in  due  rate  da  €  3.000 ciascuna, da effettuare ogni sei mesi dalla sottoscrizione.\n",
            "\n",
            "L'assistenza comprende la risoluzione di bug e l'implementazione di modifiche minori, che verranno  concordate  tra  EcoTech  e  il  Committente  prima  di  essere  eseguite.  Eventuali interventi  che superano l'ambito di assistenza e manutenzione standard saranno qu otati separatamente e concordati con il Committente.\n",
            "\n",
            "Il pagamento del servizio di assistenza e manutenzione, successivo ai 180 giorni incluso, sarà fatturato ogni sei mesi, con le condizioni sopra specificate. Eventuali costi aggiuntivi saranno concordati e fatturati separatamente.\n",
            "\n",
            "## 4.4. Esclusioni\n",
            "\n",
            "Il corrispettivo richiesto non comprende:\n",
            "\n",
            "- ● costi di acquisto di licenze software per lo svolgimento del progetto, o altre che, all'esito di modifiche progettuali consensualmente definite, si dimostrassero necessarie e ad oggi non previste né prevedibili;\n",
            "- ● costi di acquisto o noleggio di server di calcolo ad alte prestazioni, qualora, all'esito di modifiche progettuali consensualmente definite, si dimostrassero necessari per le elaborazioni del software compatibilmente con i tempi richiesti, e ad oggi non previsti né prevedibili;\n",
            "- ● costi per trasferte presso la sede del Committente o missioni al di fuori della sede EcoTech;\n",
            "- ● eventuali attività di Change Request come da Art. 4.4.1. Change Request;\n",
            "- ● tutto quanto non specificatamente compreso.\n",
            "\n",
            "Eventuali costi aggiuntivi saranno preventivamente concordati con il Committente. Tutti i costi anticipati da EcoTech saranno successivamente addebitati al Committente sulla base delle copie dei giustificativi di spesa.\n",
            "\n",
            "## 4.4.1. Change Request\n",
            "\n",
            "Eventuali Change Request (CR), ovvero richieste di interventi non previsti nella Specifica di progetto di cui all'art. 2. Specifica di Progetto e che rientrano in quanto previsto nell'art. 2.5. Out of Scope della medesima Specifica di Progetto, verranno qu otate al di fuori della presente offerta, salva, in ogni caso, la puntuale preventivazione che EcoTech si riserva di presentare. Nessuna disposizione del presente paragrafo autorizza il Committente ad esigere prestazioni che non costituiscano l'esecuzione della Specifica di Progetto secondo quanto ivi indicato.\n",
            "\n",
            "Le CR saranno gestite tramite un documento di richieste, che EcoTech valuterà in termini di stime  di  tempi  ed  effort  per  l'elaborazione.  Qualora  l'intervento  venga  autorizzato  dal Committente, EcoTech procederà alla realizzazione nei tempi previsti.\n",
            "\n",
            "## 5. Condizioni Generali\n",
            "\n",
            "## 5.1. Clausole di Riservatezza\n",
            "\n",
            "Nell'esecuzione dell'attività sono considerate riservate soltanto le informazioni chiaramente identificate come tali. Non sono comunque considerate riservate le informazioni:\n",
            "\n",
            "- ● che siano di pubblico dominio o diventino tali a seguito di azioni od omissioni da parte del Committente,\n",
            "- ● che siano  state  legittimamente  comunicate  a  EcoTech  da  terze  parti  senza  obbligo  di riservatezza,\n",
            "- ● che siano state sviluppate da EcoTech indipendentemente dal Committente,\n",
            "- ● che siano rese pubbliche per legge,\n",
            "- ● che siano conosciute da EcoTech prima di averle ricevute dal Committente.\n",
            "\n",
            "EcoTech  si  impegna  a  mantenere  il  più  stretto  riserbo  sulle  informazioni  riservate, trattandole con diligenza non inferiore a quella con cui sono trattate le proprie.\n",
            "\n",
            "EcoTech si impegna inoltre a non eseguire alcun trattamento, comunicazione, diffusione o utilizzo, al di fuori delle finalità della presente offerta, dei dati del Committente e di soggetti terzi  di  cui  venga  eventualmente  a  conoscenza  nell'esercizio  delle  attività  previste  nella presente offerta. Per 'dati' si intendono le informazioni, la documentazione e quant'altro di cui EcoTech venga a conoscenza in relazione alla prestazione dei servizi richiesti.\n",
            "\n",
            "I dati  di  natura  confidenziale  contenuti  nella  presente  offerta  non  dovranno  essere comunicati o diffusi al di fuori dei fini dell'offerta stessa.\n",
            "\n",
            "EcoTech riterrà veritiera, senza ulteriori verifiche, ogni informazione o materiale che le sia fornito o che sia stato ottenuto attraverso normali fonti di informazione.\n",
            "\n",
            "## 5.2. Proprietà, Uso e Riproduzione\n",
            "\n",
            "EcoTech  detiene  tutti  i  diritti  di  proprietà  intellettuale  sui  sistemi  e  software  sviluppati nell'ambito  del  presente  progetto.  Il  Committente  avrà  diritto  a  un  utilizzo  esclusivo  del software  per  le  attività  di  analisi  dei  materiali  riciclabili  nel  settore  specifico  del  riciclo industriale. Questo diritto di esclusività sarà concesso gratuitamente per un periodo di sei mesi a partire dall'ultima release del software.\n",
            "\n",
            "Successivamente a questo periodo iniziale, l'esclusività potrà essere mantenuta a fronte di un pagamento annuo di € 8.000, IVA esclusa. Tale esclusività si applica esclusivamente al settore del riciclo industriale, pertanto EcoTech si riserva il diritto di utilizzare, modificare, e commercializzare il software in qualsiasi altro settore o contesto, senza limitazioni.\n",
            "\n",
            "L'uso esclusivo accordato al Committente si limita strettamente alle finalità specifiche del progetto,  escludendo  qualsiasi  altra  forma  di  utilizzo  non  espressamente  autorizzata  da EcoTech. Non è concessa al Committente alcuna licenza di riproduzione, trasferimento, né il diritto di sub-licenza  del  software,  sia  in  tutto  che  in  parte.  Qualsiasi  tentativo  di riproduzione, distribuzione, trasferimento del software o di concessione di sub-licenze, sarà considerato  una  violazione  dei  termini  del  presente  contratto  e  sarà  soggetto  a  tutte  le conseguenze legali del caso.\n",
            "\n",
            "Il Committente potrà utilizzare il software esclusivamente per le proprie attività interne e solo per il settore specificato, senza possibilità di estendere tale utilizzo a terzi o ad altri settori,  salvo  previo  accordo  scritto  tra  le  parti.  EcoTech,  d'altro  canto,  continuerà  a mantenere piena libertà di commercializzare, adattare e vendere il software in altri ambiti, garantendo al Committente l'esclusività solo nel contesto concordato.\n",
            "\n",
            "## 5.3. Responsabilità\n",
            "\n",
            "Le attività previste nella presente offerta saranno svolte nel pieno rispetto delle modalità, delle  specifiche  funzionali  e  tecniche  fornite  dal  personale  interno  del  Committente  e conformemente agli standard di sviluppo e di documentazione in uso.\n",
            "\n",
            "EcoTech svolgerà le attività utilizzando gli standard professionali normalmente esercitati da professionisti nella realizzazione di servizi confrontabili a parità di contenuto e condizioni.\n",
            "\n",
            "EcoTech si ispira a principi di legalità, lealtà ed efficacia nei propri rapporti con Clienti e Fornitori  e  chiede  al  proprio  personale  di  osservare  tali  principi  nello  svolgimento  del proprio operato.\n",
            "\n",
            "Gli specialisti EcoTech sono tenuti ad avere cura delle proprietà del Committente con cui vengano in contatto, sia materiali sia intellettive, e a salvaguardare le stesse.\n",
            "\n",
            "Ad eccezione dei casi di colpa grave o dolo, EcoTech non sarà riconosciuta responsabile per qualunque danno, materiale o immateriale, diretto o indiretto, venga provocato dal proprio personale nell'ambito delle prestazioni professionali descritte nella presente offerta.\n",
            "\n",
            "Il Committente si impegna a sollevare EcoTech da qualunque coinvolgimento nei confronti di richieste di danni, diretti o indiretti, materiali o immateriali, spese, reclami, mancanze o quant'altro formulati da terzi nei confronti del Committente.\n",
            "\n",
            "EcoTech  si  impegna  a  rispettare  gli  standard  di  sicurezza  in  uso  presso  il  Committente nonché a valutare congiuntamente con il Committente se esistano le circostanze per ritenere esistenti rischi di natura interferenziale per attività da svolgersi presso l e sedi di questi a mente del d.lgs.81/08 e a provvedere di conseguenza. Ai sensi e per gli effetti di cui all'art. 26, comma 3, del D.Lgs 81/2008, ferme restando le obbligazioni di cui all'articolo 26, commi 1 e 2, del D.Lgs. 81/2008, le Parti si danno reciprocamente atto che il Progetto che sarà svolto in forza del presente Contratto è di 'natura intellettuale'.\n",
            "\n",
            "## 5.4. Indipendenza del Fornitore\n",
            "\n",
            "Gli specialisti EcoTech che interverranno sul progetto forniranno le prestazioni richieste al di fuori di ogni vincolo del rapporto di lavoro subordinato, quindi senza obbligo di presenza, di  orario,  di  gerarchia  nei  confronti  del  Committente.  Ogni  attività  di  verifica  e  controllo svolta dal Committente a mente dell'art. 3.1 dovrà conformarsi alla riconosciuta autonomia di mezzi ed organizzazione di EcoTech nell'esecuzione contrattuale.\n",
            "\n",
            "EcoTech  resta  libera  di  determinare  autonomamente  quali  dei  suoi  dipendenti  e/o collaboratori  saranno  incaricati  di  eseguire  il  Progetto,  e  di  sostituire  o  riassegnare  tali dipendenti durante l'esecuzione del Contratto, premesso comunque che, subordinatame nte alle proprie necessità operative ed entro i limiti consentiti dalla legge applicabile, EcoTech cercherà di venire incontro a espresse richieste del Committente di assegnazione di specifici dipendenti.\n",
            "\n",
            "## 5.5. Divieto di Distrazione del Personale\n",
            "\n",
            "Fatta  salva  l'espressa,  preventiva  autorizzazione  scritta  di  EcoTech,  il  Committente  non presenterà, né direttamente né indirettamente, offerte di lavoro o di impiego, né assumerà o stipulerà contratti in qualità di socio o lavoratore dipendente o autonomo con alcuno del personale  di  EcoTech,  sia  durante  la  partecipazione  all'esecuzione  del  Progetto,  sia  nei diciotto (18) mesi immediatamente successivi e tanto per personale che alla data dell'offerta sia  ancora alle dipendenze ovvero in rapporti con EcoTech quanto per personale che nel frattempo sia stato impiegato presso terzi. Con il termine «Personale» si intendono individui che  EcoTech  abbia  come  lavoratore  dipendente  o  con  i  quali  sia  comunque  in  relazioni contrattuali, con i quali il Committente sia entrato in contatto nel corso dell'esecuzione del Progetto. In caso di violazione, il Committente rimborserà a EcoTech un ammontare pari al maggiore importo tra un anno di retribuzione: (a) offerto al Personale dal Committente; o (b) pagato o offerto al Personale da EcoTech. Nonostante quanto sopra, le disposizioni del presente  articolo  si  applicheranno  anche  al  caso  in  cui  il  Personale  risponda  a  offerte indirette (per esempio tramite annunci generici anche su piattaforme digitali, head hunters, etc.) non specificamente indirizzate al Personale.\n",
            "\n",
            "## 5.6. Collaborazioni Esterne\n",
            "\n",
            "EcoTech ha la facoltà di avvalersi per la realizzazione dell'intervento, in tutto o in parte, di terzi professionisti o di società esterne.\n",
            "\n",
            "EcoTech  garantisce  in  ogni  caso  il  rispetto  delle  condizioni  di  fornitura  e  delle  clausole contenute nell'offerta.\n",
            "\n",
            "## 5.7. Referenziabilità\n",
            "\n",
            "EcoTech  potrà  citare  pubblicamente  il  Committente  utilizzandone  il  logo  nel  proprio portfolio clienti.\n",
            "\n",
            "Nel rispetto delle clausole di riservatezza riportate sopra, EcoTech potrà citare pubblicamente l'attività oggetto della presente offerta tra le proprie referenze.\n",
            "\n",
            "## 5.8. Varie\n",
            "\n",
            "- ● La Proposta sottoscritta per accettazione costituisce il solo ed integrale accordo tra le Parti,  e  sostituisce  qualsiasi  precedente  accordo  o  contratto  o  comunicazione,  scritti  o verbali,  relativamente  all'oggetto  del  Contratto.  Qualsiasi  ordine  d'acquis to  emesso  dal Cliente si intenderà valido ai soli fini interni amministrativi del Cliente stesso, e nessuna delle sue  condizioni  si  applicherà  a  EcoTech.  La  Proposta,  salvo  quanto  diversamente  in  esso stabilito,  costituirà  la  descrizione  completa  dell'oggetto  di  tale  Proposta,  ed  integrerà  i termini e le condizioni di esecuzione ai soli fini della realizzazione dell'oggetto di questa. Nessun altro accordo, affidamento, comunicazione, garanzia, scritti o verbali, vincolerà le Parti  relativamente  all'oggetto  della  Proposta.  Il  Committente  dà  atto  di  aver  accettato esclusivamente sulla base delle condizioni e informazioni qui contenute, in proprio e non per conto di terzi.\n",
            "- ● La Proposta potrà  essere  modificata  solo  con  il  consenso  scritto  di  entrambe  le  Parti indicando espressamente la clausola della Proposta che viene modificata. Nessuna clausola potrà considerarsi decaduta o fatta oggetto di rinuncia se non con il consenso scritto della Parte nei confronti della quale tale decadenza o rinuncia è invocata.\n",
            "- ● Qualsiasi ritardo o mancanza di una Parte nell'esercizio dei diritti derivanti a tale Parte dal contratto non potrà essere interpretato come una rinuncia a tali diritti, né l'esercizio parziale di un diritto potrà precludere in futuro l'esercizio integrale del diritto di tale Parte.\n",
            "- ●  Qualsiasi  azione  promossa,  escluse  quelle  dirette  ad ottenere il pagamento  dei corrispettivi, dovrà essere iniziata, a pena di decadenza, entro 2 (due) anni dal verificarsi del fatto dal quale essa trae origine.\n",
            "- ● Salvo che per gli obblighi di pagamento dei corrispettivi di cui alla presente Proposta nessuna delle Parti sarà ritenuta in alcun modo responsabile nei confronti dell'altra parte per  inadempimenti  o  ritardi  nell'adempimento  delle  obbligazioni  di  cui  alla  presente Proposta, che siano dovuti a circostanze al di fuori del proprio controllo, ivi inclusi, calamità naturali, guerra, atti terroristici, incidenti, scioperi, atti, omissioni e errori di terzi, nonché azioni  ufficiali,  governative  e  giudiziarie,  che  non  siano  causati  da  colpa  della  parte inadempiente o in ritardo nell'adempimento, ovvero anche in caso di minaccia di una delle circostanze che precedono.\n",
            "\n",
            "## 5.9. Dati personali e GDPR\n",
            "\n",
            "Le Parti, ai sensi della normativa in materia di protezione dei dati personali, dichiarano di procedere al trattamento dei dati personali per le finalità inerenti all'esecuzione del presente contratto  e  all'adempimento  degli  obblighi  legali  e  contrattuali  dallo  stesso  derivanti.  Le Parti si impegnano, nell'esecuzione del presente contratto e di tutte le attività connesse che possano  comportare  il  trattamento  dei  dati  personali,  ad  agire  in  conformità  con  la Normativa  in  materia  di  protezione  dei  dati  personali  applicabile  (in  particolare  il Regolamento  UE  2016/679  c.d.  'GDPR'),  osservando  misure  organizzative  e  tecniche adeguate,  nonché  idonee  a  garantire  la  sicurezza  delle  informazioni  sotto  l'aspetto  della riservatezza,  disponibilità  e  confidenzialità  dei  dati  personali  trattati.  Salvo  che  non  sia specificamente indicato nella scheda di progetto, l'esecuzione del contratto non comporta il trattamento di dati personali cioè di informazioni relative ad una persona fisica.\n",
            "\n",
            "## 5.10. Legge applicabile - Foro competente\n",
            "\n",
            "Il Contratto sarà regolato dalla legge italiana.\n",
            "\n",
            "Ogni  controversia  relativa  alla  stipulazione,  interpretazione,  esecuzione  e  cessazione  del Contratto sarà rimessa alla competenza esclusiva del Foro di Milano.\n",
            "\n",
            "La presente Proposta una volta accettata non corrisponderà ad alcun formulario e/o testo di condizioni generali predisposto da una delle Parti. La stessa risulterà negoziata fra le Parti e sostituisce ogni altro accordo scritto e/o verbale intercorso fra le Parti.\n",
            "\n",
            "Per integrale accettazione della presente offerta\n",
            "\n",
            "Il Committente\n",
            "\n",
            "Data \\_\\_\\_\\_\\_\\_\\_\\_\\_\\_\\_\\_\\_\\_\\_\\_\\_\\_\\_\\_\\_\\_\\_\\_\\_\\_\\_\\_\\_\\_\\_\\_\\_\\_\\_\\_\\_\\_\n"
          ]
        }
      ],
      "source": [
        "from docling.document_converter import DocumentConverter\n",
        "\n",
        "source = \"/storage/data_4T_b/andreacutuli/PROVA/FAC-SIMILE 1.1.pdf\"  # document per local path or URL\n",
        "converter = DocumentConverter()\n",
        "result = converter.convert(source)\n",
        "print(result.document.export_to_markdown())  # output: \"## Docling Technical Report[...]\"\n",
        "\n"
      ]
    },
    {
      "cell_type": "code",
      "execution_count": 3,
      "metadata": {
        "colab": {
          "base_uri": "https://localhost:8080/"
        },
        "id": "dD3cHSVjRmpE",
        "outputId": "aaed6ae2-4858-49cd-c22e-ff9f99f6abd0"
      },
      "outputs": [
        {
          "name": "stdout",
          "output_type": "stream",
          "text": [
            "File salvato come result_document.md\n"
          ]
        }
      ],
      "source": [
        "file_name = \"result_document.md\"  # nome del file\n",
        "with open(file_name, \"w\", encoding=\"utf-8\") as file:\n",
        "    file.write(result.document.export_to_markdown())\n",
        "\n",
        "print(f\"File salvato come {file_name}\")\n",
        "\n"
      ]
    },
    {
      "cell_type": "code",
      "execution_count": 4,
      "metadata": {
        "id": "K4LAmvpxUxv6"
      },
      "outputs": [],
      "source": [
        "# This is a long document we can split up.\n",
        "with open(\"/storage/data_4T_b/andreacutuli/PROVA/result_document.md\") as f:\n",
        "    fac_simile = f.read()"
      ]
    },
    {
      "cell_type": "code",
      "execution_count": 5,
      "metadata": {
        "colab": {
          "base_uri": "https://localhost:8080/"
        },
        "collapsed": true,
        "id": "SNUUfsz_UzVu",
        "outputId": "16f7cb38-2e63-4b1a-93b6-804472fe1b38"
      },
      "outputs": [
        {
          "name": "stdout",
          "output_type": "stream",
          "text": [
            "## EcoTech Solutions S.r.l.\n",
            "\n",
            "per GreenLife S.p.A. Via dell'Innovazione 42, 20121 Milano (MI), Italia\n",
            "\n",
            "Soluzioni di Intelligenza Artificiale per l'Ottimizzazione del Processo di Riciclo Industriale\n",
            "\n",
            "Implementazione di Sistemi AI per l'Analisi dei Materiali e l'Efficienza Energetica\n",
            "\n",
            "## Proposta contrattuale\n",
            "\n",
            "Versione: 1.3 Validità: 60 giorni\n",
            "\n",
            "Destinatario: Marco Bianchi m.bianchi@greenlifespa.eu Laura Verdi l.verdi@greenlifespa.eu Andrea Rossi a.rossi@greenlifespa.eu\n",
            "\n",
            "Redatta da: Dott.ssa Elena M\n"
          ]
        }
      ],
      "source": [
        "print(fac_simile[:500])"
      ]
    },
    {
      "cell_type": "markdown",
      "metadata": {
        "id": "sK0TeBea75Bk"
      },
      "source": [
        "###Secondo step: Semantic Chunking"
      ]
    },
    {
      "cell_type": "code",
      "execution_count": 6,
      "metadata": {
        "collapsed": true,
        "id": "BFIF7UG2S5SA"
      },
      "outputs": [],
      "source": [
        "!pip install -qU langchain_experimental langchain_openai langchain_community langchain ragas"
      ]
    },
    {
      "cell_type": "code",
      "execution_count": 7,
      "metadata": {
        "collapsed": true,
        "id": "vqnY2Mybfxbp"
      },
      "outputs": [],
      "source": [
        "!pip install -qU faiss-cpu tiktoken"
      ]
    },
    {
      "cell_type": "code",
      "execution_count": 8,
      "metadata": {
        "id": "adz4gyEgcvAc"
      },
      "outputs": [
        {
          "name": "stderr",
          "output_type": "stream",
          "text": [
            "/tmp/ipykernel_2159152/3556344562.py:5: LangChainDeprecationWarning: The class `HuggingFaceEmbeddings` was deprecated in LangChain 0.2.2 and will be removed in 1.0. An updated version of the class exists in the :class:`~langchain-huggingface package and should be used instead. To use it run `pip install -U :class:`~langchain-huggingface` and import as `from :class:`~langchain_huggingface import HuggingFaceEmbeddings``.\n",
            "  embedding_model = HuggingFaceEmbeddings(\n"
          ]
        }
      ],
      "source": [
        "from langchain_experimental.text_splitter import SemanticChunker\n",
        "from langchain_community.embeddings import HuggingFaceEmbeddings\n",
        "\n",
        "# Usa un modello di embedding gratuito (senza chiave)\n",
        "embedding_model = HuggingFaceEmbeddings(\n",
        "    #model_name=\"sentence-transformers/LaBSE\"\n",
        "    model_name=\"intfloat/multilingual-e5-large\"\n",
        ")\n",
        "\n",
        "from sentence_transformers import SentenceTransformer\n",
        "#model = SentenceTransformer(\"sentence-transformers/LaBSE\")\n",
        "model=embedding_model\n",
        "\n",
        "\n",
        "# Inizializza il semantic chunker con quel modello\n",
        "semantic_chunker = SemanticChunker(\n",
        "    embeddings=embedding_model,\n",
        "    breakpoint_threshold_type=\"percentile\"\n",
        ")\n"
      ]
    },
    {
      "cell_type": "code",
      "execution_count": null,
      "metadata": {},
      "outputs": [],
      "source": [
        "'''semantic_chunker = SemanticChunker(\n",
        "    embeddings=embedding_model,\n",
        "    breakpoint_threshold_type=\"percentile\",\n",
        "    breakpoint_threshold_amount=95,\n",
        "    min_chunk_size=300,\n",
        "    max_chunk_size=1000,\n",
        "    buffer_size=50,\n",
        "    embedding_batch_size=8\n",
        ")\n",
        "semantic_chunks = semantic_chunker.create_documents([fac_simile])'''"
      ]
    },
    {
      "cell_type": "code",
      "execution_count": 9,
      "metadata": {
        "id": "Hwy45Au7dPX_"
      },
      "outputs": [],
      "source": [
        "semantic_chunks = semantic_chunker.create_documents([fac_simile])"
      ]
    },
    {
      "cell_type": "code",
      "execution_count": 10,
      "metadata": {
        "id": "dF_4TX3RF1Fp"
      },
      "outputs": [
        {
          "name": "stdout",
          "output_type": "stream",
          "text": [
            "Numero di chunk creati: 13\n"
          ]
        }
      ],
      "source": [
        "print(f\"Numero di chunk creati: {len(semantic_chunks)}\")"
      ]
    },
    {
      "cell_type": "code",
      "execution_count": 11,
      "metadata": {
        "id": "k66nWfvOdaI-"
      },
      "outputs": [],
      "source": [
        "for semantic_chunk in semantic_chunks:\n",
        "  if \"zero\" in semantic_chunk.page_content:\n",
        "    print(semantic_chunk.page_content)\n",
        "    print(len(semantic_chunk.page_content))"
      ]
    },
    {
      "cell_type": "markdown",
      "metadata": {
        "id": "RjMfMbeg8xeK"
      },
      "source": [
        "###Terzo step: Embedding"
      ]
    },
    {
      "cell_type": "code",
      "execution_count": null,
      "metadata": {
        "collapsed": true,
        "id": "aAxIZny3-29w"
      },
      "outputs": [],
      "source": [
        "!pip install -U langchain-huggingface"
      ]
    },
    {
      "cell_type": "code",
      "execution_count": 13,
      "metadata": {
        "collapsed": true,
        "id": "4d238a38-b9b3-494a-9cea-8694a1b03bc7"
      },
      "outputs": [],
      "source": [
        "from langchain_huggingface import HuggingFaceEmbeddings\n",
        "\n",
        "embeddings = HuggingFaceEmbeddings(model_name=\"sentence-transformers/LaBSE\")"
      ]
    },
    {
      "cell_type": "code",
      "execution_count": 14,
      "metadata": {
        "collapsed": true,
        "id": "PrZdbauyEIt9"
      },
      "outputs": [],
      "source": [
        "from langchain_huggingface import HuggingFaceEmbeddings\n",
        "# Usa un modello open-source per gli embeddings (gratuito, nessuna chiave API richiesta)\n",
        "embeddings = HuggingFaceEmbeddings(model_name=\"sentence-transformers/all-MiniLM-L6-v2\")"
      ]
    },
    {
      "cell_type": "markdown",
      "metadata": {
        "id": "XdGblwsL84BG"
      },
      "source": [
        "###Quarto step: Vector stores"
      ]
    },
    {
      "cell_type": "code",
      "execution_count": 15,
      "metadata": {
        "collapsed": true,
        "id": "3gC_PN03HUHQ"
      },
      "outputs": [
        {
          "name": "stderr",
          "output_type": "stream",
          "text": [
            "huggingface/tokenizers: The current process just got forked, after parallelism has already been used. Disabling parallelism to avoid deadlocks...\n",
            "To disable this warning, you can either:\n",
            "\t- Avoid using `tokenizers` before the fork if possible\n",
            "\t- Explicitly set the environment variable TOKENIZERS_PARALLELISM=(true | false)\n"
          ]
        }
      ],
      "source": [
        "!pip install -qU langchain-core"
      ]
    },
    {
      "cell_type": "code",
      "execution_count": 16,
      "metadata": {
        "id": "5b0d3730-c008-4246-8b03-dd3058513e1c"
      },
      "outputs": [],
      "source": [
        "from langchain_core.vectorstores import InMemoryVectorStore\n",
        "\n",
        "vector_store = InMemoryVectorStore(embeddings)"
      ]
    },
    {
      "cell_type": "code",
      "execution_count": 17,
      "metadata": {
        "id": "2ea92e04-331c-4f83-aa2a-508322bdfbfc"
      },
      "outputs": [],
      "source": [
        "from langchain.vectorstores import FAISS\n",
        "\n",
        "# Crea il vector store da una lista di Document\n",
        "vector_store = FAISS.from_documents(semantic_chunks, embedding_model)"
      ]
    },
    {
      "cell_type": "code",
      "execution_count": 18,
      "metadata": {
        "id": "7e01ed91-1a98-4221-960a-bd7a2541a548"
      },
      "outputs": [
        {
          "name": "stdout",
          "output_type": "stream",
          "text": [
            "\n",
            "--- Result 1 ---\n",
            "Offerta Economica\n",
            "\n",
            "## 4.1. Valore Economico dell'Intervento\n",
            "\n",
            "Sulla base della soluzione proposta, si stima un valore complessivo di:\n",
            "\n",
            "## 65.000 € (sessantacinquemila euro)\n",
            "\n",
            "Tale valorizzazione è stimata considerando la seguente Tabella 2. |   Attività | Costo [€]   |\n",
            "|------------|-------------|\n",
            "|          1 | 25.000 €    |\n",
            "|          2 | 20.000 €    |\n",
            "\n",
            "3\n",
            "\n",
            "20.000 €\n",
            "\n",
            "Tabella 2. Costo per Attività. L'offerta economica complessiva include:\n",
            "\n",
            "- ● le prestazioni erogate dagli specialisti EcoTech;\n",
            "- ● coordinamento gestionale del progetto. I valori sopra riportati sono da intendersi IVA esclusa.\n",
            "\n",
            "--- Result 2 ---\n",
            "## 4.3. Assistenza e Manutenzione\n",
            "\n",
            "EcoTech  fornirà  un  servizio  di  assistenza  e  manutenzione  incluso  nel  progetto  per  un periodo di 180 giorni a partire dall'ultimo rilascio del software (D3). Durante questo periodo, il servizio coprirà la risoluzione di bug e la realizzazione di modifiche minori, che verranno concordate tra EcoTech e il Committente. Successivamente ai 180 giorni, il servizio di assistenza e manutenzione sarà disponibile al costo  di  €  6.000  annui,  IVA  esclusa. Il  pagamento  sarà  suddiviso  in  due  rate  da  €  3.000 ciascuna, da effettuare ogni sei mesi dalla sottoscrizione. L'assistenza comprende la risoluzione di bug e l'implementazione di modifiche minori, che verranno  concordate  tra  EcoTech  e  il  Committente  prima  di  essere  eseguite. Eventuali interventi  che superano l'ambito di assistenza e manutenzione standard saranno qu otati separatamente e concordati con il Committente. Il pagamento del servizio di assistenza e manutenzione, successivo ai 180 giorni incluso, sarà fatturato ogni sei mesi, con le condizioni sopra specificate. Eventuali costi aggiuntivi saranno concordati e fatturati separatamente.\n",
            "\n",
            "--- Result 3 ---\n",
            "Organizzazione del Progetto\n",
            "\n",
            "## 3.1. Risorse e Planning\n",
            "\n",
            "Sulla base della configurazione descritta, la durata prevista del progetto è di circa 6 mesi, a partire dalla Riunione di avvio progetto debitamente descritta nel Paragrafo 3.2. Controllo e Gestione. Le  attività  operative  saranno  gestite  attraverso  una  modalità  di  lavoro  basata  sulla metodologia AGILE con sprint bisettimanali. Sarà prevista una riunione ogni due settimane di circa 1 ora, che si terrà da remoto in un giorno della settimana da concordare tra le parti, per  la  revisione  di  quanto  sviluppato  e  la  pianificazione  delle  attività  da  eseguire  nei successivi sprint. Lo sviluppo verrà realizzato sfruttando l'infrastruttura di calcolo (es. virtual machine) di EcoTech ed il codice verrà storicizzato in un apposito repository (GIT). Il codice e i modelli realizzati verranno poi messi a disposizione del Committente per il deployment sulla propria infrastruttura. Sarà cura e responsabilità del Committente governare gli avanzamenti delle attività in carico ai gruppi di lavoro interni e garantire assumptions e tempistiche. EcoTech si impegna nel dare avvio alle attività entro 2 settimane dalla sottoscrizione del contratto o dalla ricezione dell'accettazione della presente proposta contrattuale da parte del Committente. Il Progetto è organizzato secondo il GANTT riportato in Tabella 1. <!-- image -->\n",
            "\n",
            "|   WPs | Mese 1   | Mese 2   | Mese 3   | Mese 4   | Mese 5   | Mese 6   |\n",
            "|-------|----------|----------|----------|----------|----------|----------|\n",
            "|   1.1 | ████ █   | ████ █   |          |          |          |          |\n",
            "|   1.2 |          | ████     | ████     |          |          |          |\n",
            "|   1.3 |          |          | ████     | ████     |          |          |\n",
            "|   2.1 |          |          |          | ████ █   | ████     |          |\n",
            "|   2.2 |          |          |          |          | ████     | ████     |\n",
            "|   3.1 |          |          |          |          | ████     |          |\n",
            "\n",
            "█\n",
            "\n",
            "3.2\n",
            "\n",
            "Tabella 1. GANTT.\n"
          ]
        }
      ],
      "source": [
        "# Ora puoi cercare:\n",
        "query = \"costi di gestione\"\n",
        "results = vector_store.similarity_search(query, k=3)\n",
        "\n",
        "# Stampa i risultati\n",
        "for i, doc in enumerate(results):\n",
        "    print(f\"\\n--- Result {i+1} ---\\n{doc.page_content}\")"
      ]
    },
    {
      "cell_type": "code",
      "execution_count": 19,
      "metadata": {
        "id": "7ff9e061-7710-40b2-93dc-1ca2b71ef96d"
      },
      "outputs": [
        {
          "name": "stdout",
          "output_type": "stream",
          "text": [
            "\n",
            "--- Result 1 ---\n",
            "Condizioni Generali\n",
            "\n",
            "## 5.1. Clausole di Riservatezza\n",
            "\n",
            "Nell'esecuzione dell'attività sono considerate riservate soltanto le informazioni chiaramente identificate come tali. Non sono comunque considerate riservate le informazioni:\n",
            "\n",
            "- ● che siano di pubblico dominio o diventino tali a seguito di azioni od omissioni da parte del Committente,\n",
            "- ● che siano  state  legittimamente  comunicate  a  EcoTech  da  terze  parti  senza  obbligo  di riservatezza,\n",
            "- ● che siano state sviluppate da EcoTech indipendentemente dal Committente,\n",
            "- ● che siano rese pubbliche per legge,\n",
            "- ● che siano conosciute da EcoTech prima di averle ricevute dal Committente. EcoTech  si  impegna  a  mantenere  il  più  stretto  riserbo  sulle  informazioni  riservate, trattandole con diligenza non inferiore a quella con cui sono trattate le proprie. EcoTech si impegna inoltre a non eseguire alcun trattamento, comunicazione, diffusione o utilizzo, al di fuori delle finalità della presente offerta, dei dati del Committente e di soggetti terzi  di  cui  venga  eventualmente  a  conoscenza  nell'esercizio  delle  attività  previste  nella presente offerta. Per 'dati' si intendono le informazioni, la documentazione e quant'altro di cui EcoTech venga a conoscenza in relazione alla prestazione dei servizi richiesti. I dati  di  natura  confidenziale  contenuti  nella  presente  offerta  non  dovranno  essere comunicati o diffusi al di fuori dei fini dell'offerta stessa. EcoTech riterrà veritiera, senza ulteriori verifiche, ogni informazione o materiale che le sia fornito o che sia stato ottenuto attraverso normali fonti di informazione. ## 5.2. Proprietà, Uso e Riproduzione\n",
            "\n",
            "EcoTech  detiene  tutti  i  diritti  di  proprietà  intellettuale  sui  sistemi  e  software  sviluppati nell'ambito  del  presente  progetto. Il  Committente  avrà  diritto  a  un  utilizzo  esclusivo  del software  per  le  attività  di  analisi  dei  materiali  riciclabili  nel  settore  specifico  del  riciclo industriale. Questo diritto di esclusività sarà concesso gratuitamente per un periodo di sei mesi a partire dall'ultima release del software. Successivamente a questo periodo iniziale, l'esclusività potrà essere mantenuta a fronte di un pagamento annuo di € 8.000, IVA esclusa. Tale esclusività si applica esclusivamente al settore del riciclo industriale, pertanto EcoTech si riserva il diritto di utilizzare, modificare, e commercializzare il software in qualsiasi altro settore o contesto, senza limitazioni. L'uso esclusivo accordato al Committente si limita strettamente alle finalità specifiche del progetto,  escludendo  qualsiasi  altra  forma  di  utilizzo  non  espressamente  autorizzata  da EcoTech. Non è concessa al Committente alcuna licenza di riproduzione, trasferimento, né il diritto di sub-licenza  del  software,  sia  in  tutto  che  in  parte. Qualsiasi  tentativo  di riproduzione, distribuzione, trasferimento del software o di concessione di sub-licenze, sarà considerato  una  violazione  dei  termini  del  presente  contratto  e  sarà  soggetto  a  tutte  le conseguenze legali del caso. Il Committente potrà utilizzare il software esclusivamente per le proprie attività interne e solo per il settore specificato, senza possibilità di estendere tale utilizzo a terzi o ad altri settori,  salvo  previo  accordo  scritto  tra  le  parti. EcoTech,  d'altro  canto,  continuerà  a mantenere piena libertà di commercializzare, adattare e vendere il software in altri ambiti, garantendo al Committente l'esclusività solo nel contesto concordato. ## 5.3. Responsabilità\n",
            "\n",
            "Le attività previste nella presente offerta saranno svolte nel pieno rispetto delle modalità, delle  specifiche  funzionali  e  tecniche  fornite  dal  personale  interno  del  Committente  e conformemente agli standard di sviluppo e di documentazione in uso. EcoTech svolgerà le attività utilizzando gli standard professionali normalmente esercitati da professionisti nella realizzazione di servizi confrontabili a parità di contenuto e condizioni. EcoTech si ispira a principi di legalità, lealtà ed efficacia nei propri rapporti con Clienti e Fornitori  e  chiede  al  proprio  personale  di  osservare  tali  principi  nello  svolgimento  del proprio operato. Gli specialisti EcoTech sono tenuti ad avere cura delle proprietà del Committente con cui vengano in contatto, sia materiali sia intellettive, e a salvaguardare le stesse. Ad eccezione dei casi di colpa grave o dolo, EcoTech non sarà riconosciuta responsabile per qualunque danno, materiale o immateriale, diretto o indiretto, venga provocato dal proprio personale nell'ambito delle prestazioni professionali descritte nella presente offerta. Il Committente si impegna a sollevare EcoTech da qualunque coinvolgimento nei confronti di richieste di danni, diretti o indiretti, materiali o immateriali, spese, reclami, mancanze o quant'altro formulati da terzi nei confronti del Committente. EcoTech  si  impegna  a  rispettare  gli  standard  di  sicurezza  in  uso  presso  il  Committente nonché a valutare congiuntamente con il Committente se esistano le circostanze per ritenere esistenti rischi di natura interferenziale per attività da svolgersi presso l e sedi di questi a mente del d.lgs.81/08 e a provvedere di conseguenza. Ai sensi e per gli effetti di cui all'art.\n",
            "\n",
            "--- Result 2 ---\n",
            "## 4.3. Assistenza e Manutenzione\n",
            "\n",
            "EcoTech  fornirà  un  servizio  di  assistenza  e  manutenzione  incluso  nel  progetto  per  un periodo di 180 giorni a partire dall'ultimo rilascio del software (D3). Durante questo periodo, il servizio coprirà la risoluzione di bug e la realizzazione di modifiche minori, che verranno concordate tra EcoTech e il Committente. Successivamente ai 180 giorni, il servizio di assistenza e manutenzione sarà disponibile al costo  di  €  6.000  annui,  IVA  esclusa. Il  pagamento  sarà  suddiviso  in  due  rate  da  €  3.000 ciascuna, da effettuare ogni sei mesi dalla sottoscrizione. L'assistenza comprende la risoluzione di bug e l'implementazione di modifiche minori, che verranno  concordate  tra  EcoTech  e  il  Committente  prima  di  essere  eseguite. Eventuali interventi  che superano l'ambito di assistenza e manutenzione standard saranno qu otati separatamente e concordati con il Committente. Il pagamento del servizio di assistenza e manutenzione, successivo ai 180 giorni incluso, sarà fatturato ogni sei mesi, con le condizioni sopra specificate. Eventuali costi aggiuntivi saranno concordati e fatturati separatamente.\n",
            "\n",
            "--- Result 3 ---\n",
            "Offerta Economica\n",
            "\n",
            "## 4.1. Valore Economico dell'Intervento\n",
            "\n",
            "Sulla base della soluzione proposta, si stima un valore complessivo di:\n",
            "\n",
            "## 65.000 € (sessantacinquemila euro)\n",
            "\n",
            "Tale valorizzazione è stimata considerando la seguente Tabella 2. |   Attività | Costo [€]   |\n",
            "|------------|-------------|\n",
            "|          1 | 25.000 €    |\n",
            "|          2 | 20.000 €    |\n",
            "\n",
            "3\n",
            "\n",
            "20.000 €\n",
            "\n",
            "Tabella 2. Costo per Attività. L'offerta economica complessiva include:\n",
            "\n",
            "- ● le prestazioni erogate dagli specialisti EcoTech;\n",
            "- ● coordinamento gestionale del progetto. I valori sopra riportati sono da intendersi IVA esclusa.\n"
          ]
        }
      ],
      "source": [
        "#results = await vector_store.asimilarity_search(\"sicurezza\")\n",
        "results = vector_store.similarity_search(\"quanto è sicuro per la privacy\", k=3)\n",
        "\n",
        "\n",
        "for i, doc in enumerate(results):\n",
        "    print(f\"\\n--- Result {i+1} ---\\n{doc.page_content}\")"
      ]
    },
    {
      "cell_type": "code",
      "execution_count": 20,
      "metadata": {
        "id": "52dfc576-40a7-4030-aeb5-bb4d3a493e3e"
      },
      "outputs": [
        {
          "name": "stdout",
          "output_type": "stream",
          "text": [
            "Score: 0.34752506017684937\n",
            "\n",
            "page_content='Organizzazione del Progetto\n",
            "\n",
            "## 3.1. Risorse e Planning\n",
            "\n",
            "Sulla base della configurazione descritta, la durata prevista del progetto è di circa 6 mesi, a partire dalla Riunione di avvio progetto debitamente descritta nel Paragrafo 3.2. Controllo e Gestione. Le  attività  operative  saranno  gestite  attraverso  una  modalità  di  lavoro  basata  sulla metodologia AGILE con sprint bisettimanali. Sarà prevista una riunione ogni due settimane di circa 1 ora, che si terrà da remoto in un giorno della settimana da concordare tra le parti, per  la  revisione  di  quanto  sviluppato  e  la  pianificazione  delle  attività  da  eseguire  nei successivi sprint. Lo sviluppo verrà realizzato sfruttando l'infrastruttura di calcolo (es. virtual machine) di EcoTech ed il codice verrà storicizzato in un apposito repository (GIT). Il codice e i modelli realizzati verranno poi messi a disposizione del Committente per il deployment sulla propria infrastruttura. Sarà cura e responsabilità del Committente governare gli avanzamenti delle attività in carico ai gruppi di lavoro interni e garantire assumptions e tempistiche. EcoTech si impegna nel dare avvio alle attività entro 2 settimane dalla sottoscrizione del contratto o dalla ricezione dell'accettazione della presente proposta contrattuale da parte del Committente. Il Progetto è organizzato secondo il GANTT riportato in Tabella 1. <!-- image -->\n",
            "\n",
            "|   WPs | Mese 1   | Mese 2   | Mese 3   | Mese 4   | Mese 5   | Mese 6   |\n",
            "|-------|----------|----------|----------|----------|----------|----------|\n",
            "|   1.1 | ████ █   | ████ █   |          |          |          |          |\n",
            "|   1.2 |          | ████     | ████     |          |          |          |\n",
            "|   1.3 |          |          | ████     | ████     |          |          |\n",
            "|   2.1 |          |          |          | ████ █   | ████     |          |\n",
            "|   2.2 |          |          |          |          | ████     | ████     |\n",
            "|   3.1 |          |          |          |          | ████     |          |\n",
            "\n",
            "█\n",
            "\n",
            "3.2\n",
            "\n",
            "Tabella 1. GANTT.'\n"
          ]
        }
      ],
      "source": [
        "# Note that providers implement different scores; the score here\n",
        "# is a distance metric that varies inversely with similarity.\n",
        "\n",
        "results = vector_store.similarity_search_with_score(\"informatica del progetto\")\n",
        "doc, score = results[0]\n",
        "print(f\"Score: {score}\\n\")\n",
        "print(doc)"
      ]
    }
  ],
  "metadata": {
    "colab": {
      "collapsed_sections": [
        "RjMfMbeg8xeK"
      ],
      "provenance": []
    },
    "kernelspec": {
      "display_name": "retrievers",
      "language": "python",
      "name": "python3"
    },
    "language_info": {
      "codemirror_mode": {
        "name": "ipython",
        "version": 3
      },
      "file_extension": ".py",
      "mimetype": "text/x-python",
      "name": "python",
      "nbconvert_exporter": "python",
      "pygments_lexer": "ipython3",
      "version": "3.13.2"
    }
  },
  "nbformat": 4,
  "nbformat_minor": 0
}
